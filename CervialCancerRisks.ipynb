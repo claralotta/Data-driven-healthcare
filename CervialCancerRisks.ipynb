{
 "cells": [
  {
   "cell_type": "markdown",
   "id": "e0cbebca",
   "metadata": {},
   "source": [
    "# Data Preparation"
   ]
  },
  {
   "cell_type": "code",
   "execution_count": 1,
   "id": "50181630",
   "metadata": {},
   "outputs": [],
   "source": [
    "#import libraries\n",
    "\n",
    "import pandas as pd\n",
    "import seaborn as sns\n",
    "import matplotlib.pyplot as plt\n",
    "import numpy as np\n",
    "\n",
    "#smote data rebalancing\n",
    "from imblearn.over_sampling import SMOTE\n",
    "\n",
    "#normalization\n",
    "from sklearn import preprocessing\n",
    "\n",
    "#classification\n",
    "from sklearn.model_selection import train_test_split\n",
    "from interpret.glassbox import ExplainableBoostingClassifier\n",
    "from interpret import show"
   ]
  },
  {
   "cell_type": "markdown",
   "id": "4c7ecdfa",
   "metadata": {},
   "source": [
    "# Loading Dataset"
   ]
  },
  {
   "cell_type": "code",
   "execution_count": 2,
   "id": "7bffc6d4",
   "metadata": {},
   "outputs": [
    {
     "name": "stdout",
     "output_type": "stream",
     "text": [
      "<class 'pandas.core.frame.DataFrame'>\n",
      "RangeIndex: 858 entries, 0 to 857\n",
      "Data columns (total 36 columns):\n",
      " #   Column                              Non-Null Count  Dtype \n",
      "---  ------                              --------------  ----- \n",
      " 0   Age                                 858 non-null    int64 \n",
      " 1   Number of sexual partners           858 non-null    object\n",
      " 2   First sexual intercourse            858 non-null    object\n",
      " 3   Num of pregnancies                  858 non-null    object\n",
      " 4   Smokes                              858 non-null    object\n",
      " 5   Smokes (years)                      858 non-null    object\n",
      " 6   Smokes (packs/year)                 858 non-null    object\n",
      " 7   Hormonal Contraceptives             858 non-null    object\n",
      " 8   Hormonal Contraceptives (years)     858 non-null    object\n",
      " 9   IUD                                 858 non-null    object\n",
      " 10  IUD (years)                         858 non-null    object\n",
      " 11  STDs                                858 non-null    object\n",
      " 12  STDs (number)                       858 non-null    object\n",
      " 13  STDs:condylomatosis                 858 non-null    object\n",
      " 14  STDs:cervical condylomatosis        858 non-null    object\n",
      " 15  STDs:vaginal condylomatosis         858 non-null    object\n",
      " 16  STDs:vulvo-perineal condylomatosis  858 non-null    object\n",
      " 17  STDs:syphilis                       858 non-null    object\n",
      " 18  STDs:pelvic inflammatory disease    858 non-null    object\n",
      " 19  STDs:genital herpes                 858 non-null    object\n",
      " 20  STDs:molluscum contagiosum          858 non-null    object\n",
      " 21  STDs:AIDS                           858 non-null    object\n",
      " 22  STDs:HIV                            858 non-null    object\n",
      " 23  STDs:Hepatitis B                    858 non-null    object\n",
      " 24  STDs:HPV                            858 non-null    object\n",
      " 25  STDs: Number of diagnosis           858 non-null    int64 \n",
      " 26  STDs: Time since first diagnosis    858 non-null    object\n",
      " 27  STDs: Time since last diagnosis     858 non-null    object\n",
      " 28  Dx:Cancer                           858 non-null    int64 \n",
      " 29  Dx:CIN                              858 non-null    int64 \n",
      " 30  Dx:HPV                              858 non-null    int64 \n",
      " 31  Dx                                  858 non-null    int64 \n",
      " 32  Hinselmann                          858 non-null    int64 \n",
      " 33  Schiller                            858 non-null    int64 \n",
      " 34  Citology                            858 non-null    int64 \n",
      " 35  Biopsy                              858 non-null    int64 \n",
      "dtypes: int64(10), object(26)\n",
      "memory usage: 241.4+ KB\n"
     ]
    }
   ],
   "source": [
    "# https://archive-beta.ics.uci.edu/ml/datasets/cervical+cancer+risk+factors\n",
    "\"\"\"\n",
    "The dataset was collected at 'Hospital Universitario de Caracas' in Caracas, Venezuela.\n",
    "The dataset comprises demographic information, habits, and historic medical records of 858 patients.\n",
    "Several patients decided not to answer some of the questions because of privacy concerns (missing values).\n",
    "\"\"\"\n",
    "\n",
    "rf = pd.read_csv('risk_factors_cervical_cancer.csv',encoding='utf8')\n",
    "rf.info()"
   ]
  },
  {
   "cell_type": "markdown",
   "id": "c3a76d55",
   "metadata": {},
   "source": [
    "# Covert data to usable datatypes"
   ]
  },
  {
   "cell_type": "code",
   "execution_count": 3,
   "id": "efc42aa9",
   "metadata": {},
   "outputs": [],
   "source": [
    "# replace missing values with NaN\n",
    "rf = rf.replace('?',np.nan)\n",
    "\n",
    "# covert everything to float64, some classes will be converted to bool once missing values are taken care of\n",
    "for label, col in rf.iteritems():\n",
    "    rf[label] = pd.to_numeric(col, errors='coerce')\n",
    "\n",
    "#TODO: Age is still int after this, why?"
   ]
  },
  {
   "cell_type": "markdown",
   "id": "281d83df",
   "metadata": {},
   "source": [
    "# Examine data"
   ]
  },
  {
   "cell_type": "markdown",
   "id": "55307b39",
   "metadata": {},
   "source": [
    "## Check missing values per column"
   ]
  },
  {
   "cell_type": "code",
   "execution_count": 4,
   "id": "183f3466",
   "metadata": {},
   "outputs": [
    {
     "data": {
      "text/html": [
       "<div>\n",
       "<style scoped>\n",
       "    .dataframe tbody tr th:only-of-type {\n",
       "        vertical-align: middle;\n",
       "    }\n",
       "\n",
       "    .dataframe tbody tr th {\n",
       "        vertical-align: top;\n",
       "    }\n",
       "\n",
       "    .dataframe thead th {\n",
       "        text-align: right;\n",
       "    }\n",
       "</style>\n",
       "<table border=\"1\" class=\"dataframe\">\n",
       "  <thead>\n",
       "    <tr style=\"text-align: right;\">\n",
       "      <th></th>\n",
       "      <th>column_name</th>\n",
       "      <th>percent_missing</th>\n",
       "    </tr>\n",
       "  </thead>\n",
       "  <tbody>\n",
       "    <tr>\n",
       "      <th>Age</th>\n",
       "      <td>Age</td>\n",
       "      <td>0.000000</td>\n",
       "    </tr>\n",
       "    <tr>\n",
       "      <th>Number of sexual partners</th>\n",
       "      <td>Number of sexual partners</td>\n",
       "      <td>3.030303</td>\n",
       "    </tr>\n",
       "    <tr>\n",
       "      <th>First sexual intercourse</th>\n",
       "      <td>First sexual intercourse</td>\n",
       "      <td>0.815851</td>\n",
       "    </tr>\n",
       "    <tr>\n",
       "      <th>Num of pregnancies</th>\n",
       "      <td>Num of pregnancies</td>\n",
       "      <td>6.526807</td>\n",
       "    </tr>\n",
       "    <tr>\n",
       "      <th>Smokes</th>\n",
       "      <td>Smokes</td>\n",
       "      <td>1.515152</td>\n",
       "    </tr>\n",
       "    <tr>\n",
       "      <th>Smokes (years)</th>\n",
       "      <td>Smokes (years)</td>\n",
       "      <td>1.515152</td>\n",
       "    </tr>\n",
       "    <tr>\n",
       "      <th>Smokes (packs/year)</th>\n",
       "      <td>Smokes (packs/year)</td>\n",
       "      <td>1.515152</td>\n",
       "    </tr>\n",
       "    <tr>\n",
       "      <th>Hormonal Contraceptives</th>\n",
       "      <td>Hormonal Contraceptives</td>\n",
       "      <td>12.587413</td>\n",
       "    </tr>\n",
       "    <tr>\n",
       "      <th>Hormonal Contraceptives (years)</th>\n",
       "      <td>Hormonal Contraceptives (years)</td>\n",
       "      <td>12.587413</td>\n",
       "    </tr>\n",
       "    <tr>\n",
       "      <th>IUD</th>\n",
       "      <td>IUD</td>\n",
       "      <td>13.636364</td>\n",
       "    </tr>\n",
       "    <tr>\n",
       "      <th>IUD (years)</th>\n",
       "      <td>IUD (years)</td>\n",
       "      <td>13.636364</td>\n",
       "    </tr>\n",
       "    <tr>\n",
       "      <th>STDs</th>\n",
       "      <td>STDs</td>\n",
       "      <td>12.237762</td>\n",
       "    </tr>\n",
       "    <tr>\n",
       "      <th>STDs (number)</th>\n",
       "      <td>STDs (number)</td>\n",
       "      <td>12.237762</td>\n",
       "    </tr>\n",
       "    <tr>\n",
       "      <th>STDs:condylomatosis</th>\n",
       "      <td>STDs:condylomatosis</td>\n",
       "      <td>12.237762</td>\n",
       "    </tr>\n",
       "    <tr>\n",
       "      <th>STDs:cervical condylomatosis</th>\n",
       "      <td>STDs:cervical condylomatosis</td>\n",
       "      <td>12.237762</td>\n",
       "    </tr>\n",
       "    <tr>\n",
       "      <th>STDs:vaginal condylomatosis</th>\n",
       "      <td>STDs:vaginal condylomatosis</td>\n",
       "      <td>12.237762</td>\n",
       "    </tr>\n",
       "    <tr>\n",
       "      <th>STDs:vulvo-perineal condylomatosis</th>\n",
       "      <td>STDs:vulvo-perineal condylomatosis</td>\n",
       "      <td>12.237762</td>\n",
       "    </tr>\n",
       "    <tr>\n",
       "      <th>STDs:syphilis</th>\n",
       "      <td>STDs:syphilis</td>\n",
       "      <td>12.237762</td>\n",
       "    </tr>\n",
       "    <tr>\n",
       "      <th>STDs:pelvic inflammatory disease</th>\n",
       "      <td>STDs:pelvic inflammatory disease</td>\n",
       "      <td>12.237762</td>\n",
       "    </tr>\n",
       "    <tr>\n",
       "      <th>STDs:genital herpes</th>\n",
       "      <td>STDs:genital herpes</td>\n",
       "      <td>12.237762</td>\n",
       "    </tr>\n",
       "    <tr>\n",
       "      <th>STDs:molluscum contagiosum</th>\n",
       "      <td>STDs:molluscum contagiosum</td>\n",
       "      <td>12.237762</td>\n",
       "    </tr>\n",
       "    <tr>\n",
       "      <th>STDs:AIDS</th>\n",
       "      <td>STDs:AIDS</td>\n",
       "      <td>12.237762</td>\n",
       "    </tr>\n",
       "    <tr>\n",
       "      <th>STDs:HIV</th>\n",
       "      <td>STDs:HIV</td>\n",
       "      <td>12.237762</td>\n",
       "    </tr>\n",
       "    <tr>\n",
       "      <th>STDs:Hepatitis B</th>\n",
       "      <td>STDs:Hepatitis B</td>\n",
       "      <td>12.237762</td>\n",
       "    </tr>\n",
       "    <tr>\n",
       "      <th>STDs:HPV</th>\n",
       "      <td>STDs:HPV</td>\n",
       "      <td>12.237762</td>\n",
       "    </tr>\n",
       "    <tr>\n",
       "      <th>STDs: Number of diagnosis</th>\n",
       "      <td>STDs: Number of diagnosis</td>\n",
       "      <td>0.000000</td>\n",
       "    </tr>\n",
       "    <tr>\n",
       "      <th>STDs: Time since first diagnosis</th>\n",
       "      <td>STDs: Time since first diagnosis</td>\n",
       "      <td>91.724942</td>\n",
       "    </tr>\n",
       "    <tr>\n",
       "      <th>STDs: Time since last diagnosis</th>\n",
       "      <td>STDs: Time since last diagnosis</td>\n",
       "      <td>91.724942</td>\n",
       "    </tr>\n",
       "    <tr>\n",
       "      <th>Dx:Cancer</th>\n",
       "      <td>Dx:Cancer</td>\n",
       "      <td>0.000000</td>\n",
       "    </tr>\n",
       "    <tr>\n",
       "      <th>Dx:CIN</th>\n",
       "      <td>Dx:CIN</td>\n",
       "      <td>0.000000</td>\n",
       "    </tr>\n",
       "    <tr>\n",
       "      <th>Dx:HPV</th>\n",
       "      <td>Dx:HPV</td>\n",
       "      <td>0.000000</td>\n",
       "    </tr>\n",
       "    <tr>\n",
       "      <th>Dx</th>\n",
       "      <td>Dx</td>\n",
       "      <td>0.000000</td>\n",
       "    </tr>\n",
       "    <tr>\n",
       "      <th>Hinselmann</th>\n",
       "      <td>Hinselmann</td>\n",
       "      <td>0.000000</td>\n",
       "    </tr>\n",
       "    <tr>\n",
       "      <th>Schiller</th>\n",
       "      <td>Schiller</td>\n",
       "      <td>0.000000</td>\n",
       "    </tr>\n",
       "    <tr>\n",
       "      <th>Citology</th>\n",
       "      <td>Citology</td>\n",
       "      <td>0.000000</td>\n",
       "    </tr>\n",
       "    <tr>\n",
       "      <th>Biopsy</th>\n",
       "      <td>Biopsy</td>\n",
       "      <td>0.000000</td>\n",
       "    </tr>\n",
       "  </tbody>\n",
       "</table>\n",
       "</div>"
      ],
      "text/plain": [
       "                                                           column_name  \\\n",
       "Age                                                                Age   \n",
       "Number of sexual partners                    Number of sexual partners   \n",
       "First sexual intercourse                      First sexual intercourse   \n",
       "Num of pregnancies                                  Num of pregnancies   \n",
       "Smokes                                                          Smokes   \n",
       "Smokes (years)                                          Smokes (years)   \n",
       "Smokes (packs/year)                                Smokes (packs/year)   \n",
       "Hormonal Contraceptives                        Hormonal Contraceptives   \n",
       "Hormonal Contraceptives (years)        Hormonal Contraceptives (years)   \n",
       "IUD                                                                IUD   \n",
       "IUD (years)                                                IUD (years)   \n",
       "STDs                                                              STDs   \n",
       "STDs (number)                                            STDs (number)   \n",
       "STDs:condylomatosis                                STDs:condylomatosis   \n",
       "STDs:cervical condylomatosis              STDs:cervical condylomatosis   \n",
       "STDs:vaginal condylomatosis                STDs:vaginal condylomatosis   \n",
       "STDs:vulvo-perineal condylomatosis  STDs:vulvo-perineal condylomatosis   \n",
       "STDs:syphilis                                            STDs:syphilis   \n",
       "STDs:pelvic inflammatory disease      STDs:pelvic inflammatory disease   \n",
       "STDs:genital herpes                                STDs:genital herpes   \n",
       "STDs:molluscum contagiosum                  STDs:molluscum contagiosum   \n",
       "STDs:AIDS                                                    STDs:AIDS   \n",
       "STDs:HIV                                                      STDs:HIV   \n",
       "STDs:Hepatitis B                                      STDs:Hepatitis B   \n",
       "STDs:HPV                                                      STDs:HPV   \n",
       "STDs: Number of diagnosis                    STDs: Number of diagnosis   \n",
       "STDs: Time since first diagnosis      STDs: Time since first diagnosis   \n",
       "STDs: Time since last diagnosis        STDs: Time since last diagnosis   \n",
       "Dx:Cancer                                                    Dx:Cancer   \n",
       "Dx:CIN                                                          Dx:CIN   \n",
       "Dx:HPV                                                          Dx:HPV   \n",
       "Dx                                                                  Dx   \n",
       "Hinselmann                                                  Hinselmann   \n",
       "Schiller                                                      Schiller   \n",
       "Citology                                                      Citology   \n",
       "Biopsy                                                          Biopsy   \n",
       "\n",
       "                                    percent_missing  \n",
       "Age                                        0.000000  \n",
       "Number of sexual partners                  3.030303  \n",
       "First sexual intercourse                   0.815851  \n",
       "Num of pregnancies                         6.526807  \n",
       "Smokes                                     1.515152  \n",
       "Smokes (years)                             1.515152  \n",
       "Smokes (packs/year)                        1.515152  \n",
       "Hormonal Contraceptives                   12.587413  \n",
       "Hormonal Contraceptives (years)           12.587413  \n",
       "IUD                                       13.636364  \n",
       "IUD (years)                               13.636364  \n",
       "STDs                                      12.237762  \n",
       "STDs (number)                             12.237762  \n",
       "STDs:condylomatosis                       12.237762  \n",
       "STDs:cervical condylomatosis              12.237762  \n",
       "STDs:vaginal condylomatosis               12.237762  \n",
       "STDs:vulvo-perineal condylomatosis        12.237762  \n",
       "STDs:syphilis                             12.237762  \n",
       "STDs:pelvic inflammatory disease          12.237762  \n",
       "STDs:genital herpes                       12.237762  \n",
       "STDs:molluscum contagiosum                12.237762  \n",
       "STDs:AIDS                                 12.237762  \n",
       "STDs:HIV                                  12.237762  \n",
       "STDs:Hepatitis B                          12.237762  \n",
       "STDs:HPV                                  12.237762  \n",
       "STDs: Number of diagnosis                  0.000000  \n",
       "STDs: Time since first diagnosis          91.724942  \n",
       "STDs: Time since last diagnosis           91.724942  \n",
       "Dx:Cancer                                  0.000000  \n",
       "Dx:CIN                                     0.000000  \n",
       "Dx:HPV                                     0.000000  \n",
       "Dx                                         0.000000  \n",
       "Hinselmann                                 0.000000  \n",
       "Schiller                                   0.000000  \n",
       "Citology                                   0.000000  \n",
       "Biopsy                                     0.000000  "
      ]
     },
     "execution_count": 4,
     "metadata": {},
     "output_type": "execute_result"
    }
   ],
   "source": [
    "percent_missing = rf.isnull().sum() * 100 / len(rf)\n",
    "missing_value_df = pd.DataFrame({'column_name': rf.columns,\n",
    "                                 'percent_missing': percent_missing})\n",
    "missing_value_df"
   ]
  },
  {
   "cell_type": "code",
   "execution_count": 5,
   "id": "af2afd0c",
   "metadata": {},
   "outputs": [],
   "source": [
    "# remove columns with more than 20% missing\n",
    "selection_columns = missing_value_df.loc[missing_value_df['percent_missing'] >= 20].iloc[:, 0]\n",
    "\n",
    "for col in selection_columns:\n",
    "    rf = rf.drop([col], axis=1)"
   ]
  },
  {
   "cell_type": "markdown",
   "id": "6ebe2b30",
   "metadata": {},
   "source": [
    "## Investigate STDs (number) vs STDs: Number of diagnosis"
   ]
  },
  {
   "cell_type": "code",
   "execution_count": 6,
   "id": "b74d25d6",
   "metadata": {},
   "outputs": [],
   "source": [
    "# check if STDs (number) and STDs: Number of diagnosis are the same\n",
    "STD_comparison = np.where((rf['STDs (number)']==rf['STDs: Number of diagnosis']), True, False)\n",
    "\n",
    "# remove one of the columns if they're not the same and replace values in the other column with newly calc values\n",
    "if not STD_comparison.all():\n",
    "    rf = rf.drop(['STDs: Number of diagnosis'], axis=1)\n",
    "    # create a new column with the sum of all STDs\n",
    "    rf['STDs (number)'] = (rf['STDs:condylomatosis'] + rf['STDs:cervical condylomatosis'] +\n",
    "        rf['STDs:vaginal condylomatosis'] + rf['STDs:vulvo-perineal condylomatosis'] +\n",
    "        rf['STDs:syphilis'] + rf['STDs:pelvic inflammatory disease'] +\n",
    "        rf['STDs:genital herpes'] + rf['STDs:molluscum contagiosum'] +\n",
    "        rf['STDs:AIDS'] + rf['STDs:HIV'] +\n",
    "        rf['STDs:Hepatitis B'] + rf['STDs:HPV'])"
   ]
  },
  {
   "cell_type": "markdown",
   "id": "5b2e4535",
   "metadata": {},
   "source": [
    "## Check missing values per row"
   ]
  },
  {
   "cell_type": "code",
   "execution_count": 7,
   "id": "1f8bda08",
   "metadata": {},
   "outputs": [
    {
     "name": "stdout",
     "output_type": "stream",
     "text": [
      "107 number of rows were removed\n"
     ]
    }
   ],
   "source": [
    "missing_count = []\n",
    "for idx in range(len(rf)):\n",
    "    missing = rf.loc[[idx]].isna().sum().sum()\n",
    "    missing_count.append(missing)\n",
    "\n",
    "removed = 0\n",
    "for idx, val in enumerate(missing_count):\n",
    "    # Remove all rows where more than 15% of the data are missing\n",
    "    # If 20% is chosen, 106 patients are excluded\n",
    "    if val >= len(rf.columns)*0.15:\n",
    "        rf = rf.drop(idx)\n",
    "        removed+=1\n",
    "print(\"{} number of rows were removed\".format(removed))"
   ]
  },
  {
   "cell_type": "markdown",
   "id": "76084a0b",
   "metadata": {},
   "source": [
    "## Data normalization"
   ]
  },
  {
   "cell_type": "code",
   "execution_count": 8,
   "id": "959d8b17",
   "metadata": {},
   "outputs": [
    {
     "data": {
      "text/plain": [
       "'column_names  = rf.columns.values.tolist()\\n\\n#normalize all columns to 0 to 1\\nvalues = rf.values #returns a numpy array\\nmin_max_scaler = preprocessing.MinMaxScaler()\\nvalues_scaled = min_max_scaler.fit_transform(values)\\nrf_norm = pd.DataFrame(values_scaled)\\n\\n# rename the columns again\\nrf_norm.columns = column_names'"
      ]
     },
     "execution_count": 8,
     "metadata": {},
     "output_type": "execute_result"
    }
   ],
   "source": [
    "#Decision to not use normalization to keep it interpretable\n",
    "\"\"\"column_names  = rf.columns.values.tolist()\n",
    "\n",
    "#normalize all columns to 0 to 1\n",
    "values = rf.values #returns a numpy array\n",
    "min_max_scaler = preprocessing.MinMaxScaler()\n",
    "values_scaled = min_max_scaler.fit_transform(values)\n",
    "rf_norm = pd.DataFrame(values_scaled)\n",
    "\n",
    "# rename the columns again\n",
    "rf_norm.columns = column_names\"\"\""
   ]
  },
  {
   "cell_type": "markdown",
   "id": "b195f52e",
   "metadata": {},
   "source": [
    "## Data imputation\n",
    "Following the methods described in:\n",
    "Razali, Nazim & Mostafa, Salama & Mustapha, Aida & Abd Wahab, Mohd Helmy & Ibrahim, Nurul. (2020). Risk Factors of Cervical Cancer using Classification in Data Mining. Journal of Physics: Conference Series. 1529. 022102. 10.1088/1742-6596/1529/2/022102. \n",
    "\n",
    "\"Missing values for attribute that have integer data type were filled using the sample mean while boolean\n",
    "were filled using the sample mode.\""
   ]
  },
  {
   "cell_type": "code",
   "execution_count": 9,
   "id": "79d100b1",
   "metadata": {},
   "outputs": [],
   "source": [
    "rf_imp = rf.copy()\n",
    "# store columns with specific data type\n",
    "bool_columns = ['Smokes','Hormonal Contraceptives', 'IUD', 'STDs',\n",
    "                'STDs:condylomatosis', 'STDs:cervical condylomatosis',\n",
    "                'STDs:vaginal condylomatosis', 'STDs:vulvo-perineal condylomatosis',\n",
    "                'STDs:syphilis', 'STDs:pelvic inflammatory disease', \n",
    "                'STDs:genital herpes', 'STDs:molluscum contagiosum',\n",
    "                'STDs:AIDS', 'STDs:HIV', 'STDs:Hepatitis B', 'STDs:HPV',\n",
    "                'Dx:Cancer', 'Dx:CIN', 'Dx:HPV', 'Dx', 'Hinselmann', 'Schiller',\n",
    "                'Citology', 'Biopsy']\n",
    "\n",
    "# replace NaN with mode for columns with dtype bool\n",
    "for label, col in rf_imp.iteritems():\n",
    "    if label in bool_columns:\n",
    "        columns_mode = col.mode()\n",
    "        rf_imp[label] = col.fillna(columns_mode[0])\n",
    "\n",
    "        #convert column to bool while we're at it\n",
    "        rf_imp[label] = rf_imp[label].astype('bool')\n",
    "    \n",
    "float_columns = rf_imp.select_dtypes(include=['float64']).columns\n",
    "\n",
    "# replace NaN with mean for columns with dtype float\n",
    "for col in float_columns:\n",
    "    columns_mean = rf_imp[col].mean()\n",
    "    rf_imp[col] = rf_imp[col].fillna(columns_mean)"
   ]
  },
  {
   "cell_type": "markdown",
   "id": "96e6b478",
   "metadata": {},
   "source": [
    "# Investigate class imbalances"
   ]
  },
  {
   "cell_type": "code",
   "execution_count": 24,
   "id": "62d21d40",
   "metadata": {},
   "outputs": [
    {
     "data": {
      "text/html": [
       "<div>\n",
       "<style scoped>\n",
       "    .dataframe tbody tr th:only-of-type {\n",
       "        vertical-align: middle;\n",
       "    }\n",
       "\n",
       "    .dataframe tbody tr th {\n",
       "        vertical-align: top;\n",
       "    }\n",
       "\n",
       "    .dataframe thead th {\n",
       "        text-align: right;\n",
       "    }\n",
       "</style>\n",
       "<table border=\"1\" class=\"dataframe\">\n",
       "  <thead>\n",
       "    <tr style=\"text-align: right;\">\n",
       "      <th></th>\n",
       "      <th>Age</th>\n",
       "      <th>Number of sexual partners</th>\n",
       "      <th>First sexual intercourse</th>\n",
       "      <th>Num of pregnancies</th>\n",
       "      <th>Smokes</th>\n",
       "      <th>Smokes (years)</th>\n",
       "      <th>Smokes (packs/year)</th>\n",
       "      <th>Hormonal Contraceptives</th>\n",
       "      <th>Hormonal Contraceptives (years)</th>\n",
       "      <th>IUD</th>\n",
       "      <th>...</th>\n",
       "      <th>STDs:HIV</th>\n",
       "      <th>STDs:Hepatitis B</th>\n",
       "      <th>STDs:HPV</th>\n",
       "      <th>Dx:Cancer</th>\n",
       "      <th>Dx:CIN</th>\n",
       "      <th>Dx:HPV</th>\n",
       "      <th>Dx</th>\n",
       "      <th>Hinselmann</th>\n",
       "      <th>Schiller</th>\n",
       "      <th>Citology</th>\n",
       "    </tr>\n",
       "    <tr>\n",
       "      <th>Biopsy</th>\n",
       "      <th></th>\n",
       "      <th></th>\n",
       "      <th></th>\n",
       "      <th></th>\n",
       "      <th></th>\n",
       "      <th></th>\n",
       "      <th></th>\n",
       "      <th></th>\n",
       "      <th></th>\n",
       "      <th></th>\n",
       "      <th></th>\n",
       "      <th></th>\n",
       "      <th></th>\n",
       "      <th></th>\n",
       "      <th></th>\n",
       "      <th></th>\n",
       "      <th></th>\n",
       "      <th></th>\n",
       "      <th></th>\n",
       "      <th></th>\n",
       "      <th></th>\n",
       "    </tr>\n",
       "  </thead>\n",
       "  <tbody>\n",
       "    <tr>\n",
       "      <th>False</th>\n",
       "      <td>698</td>\n",
       "      <td>698</td>\n",
       "      <td>698</td>\n",
       "      <td>698</td>\n",
       "      <td>698</td>\n",
       "      <td>698</td>\n",
       "      <td>698</td>\n",
       "      <td>698</td>\n",
       "      <td>698</td>\n",
       "      <td>698</td>\n",
       "      <td>...</td>\n",
       "      <td>698</td>\n",
       "      <td>698</td>\n",
       "      <td>698</td>\n",
       "      <td>698</td>\n",
       "      <td>698</td>\n",
       "      <td>698</td>\n",
       "      <td>698</td>\n",
       "      <td>698</td>\n",
       "      <td>698</td>\n",
       "      <td>698</td>\n",
       "    </tr>\n",
       "    <tr>\n",
       "      <th>True</th>\n",
       "      <td>53</td>\n",
       "      <td>53</td>\n",
       "      <td>53</td>\n",
       "      <td>53</td>\n",
       "      <td>53</td>\n",
       "      <td>53</td>\n",
       "      <td>53</td>\n",
       "      <td>53</td>\n",
       "      <td>53</td>\n",
       "      <td>53</td>\n",
       "      <td>...</td>\n",
       "      <td>53</td>\n",
       "      <td>53</td>\n",
       "      <td>53</td>\n",
       "      <td>53</td>\n",
       "      <td>53</td>\n",
       "      <td>53</td>\n",
       "      <td>53</td>\n",
       "      <td>53</td>\n",
       "      <td>53</td>\n",
       "      <td>53</td>\n",
       "    </tr>\n",
       "  </tbody>\n",
       "</table>\n",
       "<p>2 rows × 32 columns</p>\n",
       "</div>"
      ],
      "text/plain": [
       "        Age  Number of sexual partners  First sexual intercourse  \\\n",
       "Biopsy                                                             \n",
       "False   698                        698                       698   \n",
       "True     53                         53                        53   \n",
       "\n",
       "        Num of pregnancies  Smokes  Smokes (years)  Smokes (packs/year)  \\\n",
       "Biopsy                                                                    \n",
       "False                  698     698             698                  698   \n",
       "True                    53      53              53                   53   \n",
       "\n",
       "        Hormonal Contraceptives  Hormonal Contraceptives (years)  IUD  ...  \\\n",
       "Biopsy                                                                 ...   \n",
       "False                       698                              698  698  ...   \n",
       "True                         53                               53   53  ...   \n",
       "\n",
       "        STDs:HIV  STDs:Hepatitis B  STDs:HPV  Dx:Cancer  Dx:CIN  Dx:HPV   Dx  \\\n",
       "Biopsy                                                                         \n",
       "False        698               698       698        698     698     698  698   \n",
       "True          53                53        53         53      53      53   53   \n",
       "\n",
       "        Hinselmann  Schiller  Citology  \n",
       "Biopsy                                  \n",
       "False          698       698       698  \n",
       "True            53        53        53  \n",
       "\n",
       "[2 rows x 32 columns]"
      ]
     },
     "execution_count": 24,
     "metadata": {},
     "output_type": "execute_result"
    }
   ],
   "source": [
    "# get number of patients per group\n",
    "rf_imp.groupby('Biopsy').count()"
   ]
  },
  {
   "cell_type": "code",
   "execution_count": 10,
   "id": "007d174b",
   "metadata": {},
   "outputs": [
    {
     "data": {
      "text/plain": [
       "False    678\n",
       "True      73\n",
       "Name: Schiller, dtype: int64"
      ]
     },
     "execution_count": 10,
     "metadata": {},
     "output_type": "execute_result"
    }
   ],
   "source": [
    "rf_imp['Schiller'].value_counts()"
   ]
  },
  {
   "cell_type": "code",
   "execution_count": 11,
   "id": "b09b5c5f",
   "metadata": {},
   "outputs": [
    {
     "data": {
      "text/plain": [
       "False    698\n",
       "True      53\n",
       "Name: Biopsy, dtype: int64"
      ]
     },
     "execution_count": 11,
     "metadata": {},
     "output_type": "execute_result"
    }
   ],
   "source": [
    "rf_imp['Biopsy'].value_counts()"
   ]
  },
  {
   "cell_type": "code",
   "execution_count": 12,
   "id": "3fe87ea2",
   "metadata": {
    "scrolled": true
   },
   "outputs": [
    {
     "data": {
      "text/plain": [
       "False    716\n",
       "True      35\n",
       "Name: Hinselmann, dtype: int64"
      ]
     },
     "execution_count": 12,
     "metadata": {},
     "output_type": "execute_result"
    }
   ],
   "source": [
    "rf_imp['Hinselmann'].value_counts()"
   ]
  },
  {
   "cell_type": "code",
   "execution_count": 13,
   "id": "60639f89",
   "metadata": {},
   "outputs": [
    {
     "data": {
      "text/plain": [
       "False    710\n",
       "True      41\n",
       "Name: Citology, dtype: int64"
      ]
     },
     "execution_count": 13,
     "metadata": {},
     "output_type": "execute_result"
    }
   ],
   "source": [
    "rf_imp['Citology'].value_counts()"
   ]
  },
  {
   "cell_type": "markdown",
   "id": "a1ffe903",
   "metadata": {},
   "source": [
    "# Correlations between variables"
   ]
  },
  {
   "cell_type": "code",
   "execution_count": 14,
   "id": "0f2d99ef",
   "metadata": {},
   "outputs": [],
   "source": [
    "# Plot non-bool parameters\n",
    "#sns.pairplot(rf_imp[['Age','Number of sexual partners','Num of pregnancies','IUD (years)',\n",
    "#                 'Hormonal Contraceptives (years)', 'STDs (number)', 'Smokes (years)']])"
   ]
  },
  {
   "cell_type": "markdown",
   "id": "7d412d20",
   "metadata": {},
   "source": [
    "# Oversampling"
   ]
  },
  {
   "cell_type": "markdown",
   "id": "d360c510",
   "metadata": {},
   "source": [
    "## Implement Oversampling"
   ]
  },
  {
   "cell_type": "code",
   "execution_count": 15,
   "id": "2c909d5a",
   "metadata": {},
   "outputs": [
    {
     "name": "stdout",
     "output_type": "stream",
     "text": [
      "Minority class count before oversampling: \n",
      "0    698\n",
      "1     53\n",
      "Name: Biopsy, dtype: int64\n",
      "\n",
      "Minority class count after oversampling: \n",
      "True     700\n",
      "False    698\n",
      "Name: Biopsy, dtype: int64\n"
     ]
    }
   ],
   "source": [
    "# locate all columns where Biopsy is 1\n",
    "minority_class = rf_imp.loc[rf_imp['Biopsy'] == 1]\n",
    "\n",
    "print(\"Minority class count before oversampling: \\n{}\\n\".format(rf['Biopsy'].value_counts()))\n",
    "\n",
    "# oversample with factor 12.2\n",
    "minority_class = minority_class.sample(frac=12.2, replace=True, random_state=1)\n",
    "\n",
    "# concat dataframes\n",
    "frames = [rf_imp, minority_class]\n",
    "rf_oversampled = pd.concat(frames)\n",
    "\n",
    "print(\"Minority class count after oversampling: \\n{}\".format(rf_oversampled['Biopsy'].value_counts()))"
   ]
  },
  {
   "cell_type": "markdown",
   "id": "fa1aa555",
   "metadata": {},
   "source": [
    "## SMOTE oversampling"
   ]
  },
  {
   "cell_type": "code",
   "execution_count": 16,
   "id": "5f758986",
   "metadata": {},
   "outputs": [
    {
     "name": "stdout",
     "output_type": "stream",
     "text": [
      "Minority class count after SMOTE oversampling: \n",
      "False    698\n",
      "True     698\n",
      "Name: Biopsy, dtype: int64\n"
     ]
    }
   ],
   "source": [
    "# oversampling using synthetic minority oversampling technique (SMOTE)\n",
    "# see: Chawla N V, Bowyer K W, Hall L O and Kegelmeyer W P 2002 Journal of Artificial Intelligence Research 16 321-357\n",
    "\n",
    "# following tutorial here: https://www.kite.com/blog/python/smote-python-imbalanced-learn-for-oversampling/\n",
    "rf_imp.to_csv('rf_original.csv', index=False, encoding='utf-8')\n",
    "\n",
    "\n",
    "# for reproducibility purposes\n",
    "seed = 100\n",
    "# SMOTE number of neighbors\n",
    "k = 1\n",
    "\n",
    "rf = pd.read_csv('rf_original.csv', encoding='utf-8', engine='python')\n",
    "\n",
    "# make a new df made of all the columns, except the target class\n",
    "X = rf.loc[:, rf.columns != 'Biopsy']\n",
    "y = rf.Biopsy\n",
    "sm = SMOTE(sampling_strategy='auto', k_neighbors=k, random_state=seed)\n",
    "X_res, y_res = sm.fit_resample(X, y)\n",
    "\n",
    "rf_smote = pd.concat([pd.DataFrame(X_res), pd.DataFrame(y_res)], axis=1)\n",
    "\n",
    "# rename the columns\n",
    "column_names  = rf.columns.values.tolist()\n",
    "rf_smote.columns = column_names\n",
    "\n",
    "print(\"Minority class count after SMOTE oversampling: \\n{}\".format(rf_smote['Biopsy'].value_counts()))"
   ]
  },
  {
   "cell_type": "markdown",
   "id": "7f13cdd5",
   "metadata": {},
   "source": [
    "# Pivot table"
   ]
  },
  {
   "cell_type": "code",
   "execution_count": 17,
   "id": "c0697ab1",
   "metadata": {},
   "outputs": [
    {
     "data": {
      "text/html": [
       "<div>\n",
       "<style scoped>\n",
       "    .dataframe tbody tr th:only-of-type {\n",
       "        vertical-align: middle;\n",
       "    }\n",
       "\n",
       "    .dataframe tbody tr th {\n",
       "        vertical-align: top;\n",
       "    }\n",
       "\n",
       "    .dataframe thead th {\n",
       "        text-align: right;\n",
       "    }\n",
       "</style>\n",
       "<table border=\"1\" class=\"dataframe\">\n",
       "  <thead>\n",
       "    <tr style=\"text-align: right;\">\n",
       "      <th></th>\n",
       "      <th>Dx:Cancer</th>\n",
       "      <th>Dx:HPV</th>\n",
       "    </tr>\n",
       "  </thead>\n",
       "  <tbody>\n",
       "    <tr>\n",
       "      <th>0</th>\n",
       "      <td>False</td>\n",
       "      <td>0.001591</td>\n",
       "    </tr>\n",
       "    <tr>\n",
       "      <th>1</th>\n",
       "      <td>True</td>\n",
       "      <td>0.985612</td>\n",
       "    </tr>\n",
       "  </tbody>\n",
       "</table>\n",
       "</div>"
      ],
      "text/plain": [
       "   Dx:Cancer    Dx:HPV\n",
       "0      False  0.001591\n",
       "1       True  0.985612"
      ]
     },
     "execution_count": 17,
     "metadata": {},
     "output_type": "execute_result"
    }
   ],
   "source": [
    "group = 'Dx:Cancer'\n",
    "column_ = 'Dx:HPV'\n",
    "agg_function = np.mean \n",
    "\n",
    "pivot_sum=pd.pivot_table(rf_smote,index=[group],values=[column_],aggfunc=agg_function)\n",
    "pivot_sum=pivot_sum.reset_index()\n",
    "pivot_sum"
   ]
  },
  {
   "cell_type": "markdown",
   "id": "27e8e7c2",
   "metadata": {},
   "source": [
    "# Classification"
   ]
  },
  {
   "cell_type": "markdown",
   "id": "9cf9eddd",
   "metadata": {},
   "source": [
    "## Splitting the dataset into traning and testing sets"
   ]
  },
  {
   "cell_type": "code",
   "execution_count": 18,
   "id": "657d9657",
   "metadata": {},
   "outputs": [],
   "source": [
    "# using oversampled data\n",
    "# split dataset in features and target variable\n",
    "feature_cols = rf_oversampled.columns[1:len(rf_oversampled.columns)-4]\n",
    "X = rf_oversampled[feature_cols] # Features\n",
    "y = rf_oversampled.Biopsy # Target variable\n",
    "\n",
    "# Split dataset into training set and test set\n",
    "X_train, X_test, y_train, y_test = train_test_split(X, y, test_size=0.3, random_state=1) # 70% training and 30% test"
   ]
  },
  {
   "cell_type": "markdown",
   "id": "3a928e08",
   "metadata": {},
   "source": [
    "## Explainable Boosting Classfier"
   ]
  },
  {
   "cell_type": "code",
   "execution_count": 19,
   "id": "8424d821",
   "metadata": {},
   "outputs": [
    {
     "data": {
      "text/plain": [
       "ExplainableBoostingClassifier(feature_names=['Number of sexual partners',\n",
       "                                             'First sexual intercourse',\n",
       "                                             'Num of pregnancies', 'Smokes',\n",
       "                                             'Smokes (years)',\n",
       "                                             'Smokes (packs/year)',\n",
       "                                             'Hormonal Contraceptives',\n",
       "                                             'Hormonal Contraceptives (years)',\n",
       "                                             'IUD', 'IUD (years)', 'STDs',\n",
       "                                             'STDs (number)',\n",
       "                                             'STDs:condylomatosis',\n",
       "                                             'STDs:cervical condylomatosis',\n",
       "                                             'STDs:vaginal condylomatosis',\n",
       "                                             'STDs:vulvo...\n",
       "                                             'continuous', 'continuous',\n",
       "                                             'categorical', 'continuous',\n",
       "                                             'categorical', 'continuous',\n",
       "                                             'categorical', 'continuous',\n",
       "                                             'categorical', 'categorical',\n",
       "                                             'categorical', 'categorical',\n",
       "                                             'categorical', 'categorical',\n",
       "                                             'categorical', 'categorical',\n",
       "                                             'categorical', 'categorical',\n",
       "                                             'categorical', 'categorical',\n",
       "                                             'categorical', 'categorical',\n",
       "                                             'categorical', 'categorical',\n",
       "                                             'interaction', 'interaction', ...])"
      ]
     },
     "execution_count": 19,
     "metadata": {},
     "output_type": "execute_result"
    }
   ],
   "source": [
    "# fit an ebm\n",
    "ebm = ExplainableBoostingClassifier()\n",
    "ebm.fit(X_train, y_train)"
   ]
  },
  {
   "cell_type": "code",
   "execution_count": 20,
   "id": "ce5f0cbb",
   "metadata": {
    "scrolled": true
   },
   "outputs": [
    {
     "data": {
      "text/html": [
       "<!-- http://127.0.0.1:7001/140197209897472/ -->\n",
       "<iframe src=\"http://127.0.0.1:7001/140197209897472/\" width=100% height=800 frameBorder=\"0\"></iframe>"
      ]
     },
     "metadata": {},
     "output_type": "display_data"
    },
    {
     "name": "stderr",
     "output_type": "stream",
     "text": [
      "/Users/clara/opt/anaconda3/lib/python3.9/site-packages/interpret/visual/udash.py:5: UserWarning: \n",
      "The dash_html_components package is deprecated. Please replace\n",
      "`import dash_html_components as html` with `from dash import html`\n",
      "  import dash_html_components as html\n",
      "/Users/clara/opt/anaconda3/lib/python3.9/site-packages/interpret/visual/udash.py:6: UserWarning: \n",
      "The dash_core_components package is deprecated. Please replace\n",
      "`import dash_core_components as dcc` with `from dash import dcc`\n",
      "  import dash_core_components as dcc\n",
      "/Users/clara/opt/anaconda3/lib/python3.9/site-packages/interpret/visual/udash.py:7: UserWarning: \n",
      "The dash_table package is deprecated. Please replace\n",
      "`import dash_table` with `from dash import dash_table`\n",
      "\n",
      "Also, if you're using any of the table format helpers (e.g. Group), replace \n",
      "`from dash_table.Format import Group` with \n",
      "`from dash.dash_table.Format import Group`\n",
      "  import dash_table as dt\n"
     ]
    }
   ],
   "source": [
    "# understand the model\n",
    "ebm_global = ebm.explain_global()\n",
    "show(ebm_global)"
   ]
  },
  {
   "cell_type": "code",
   "execution_count": 21,
   "id": "18baed84",
   "metadata": {
    "scrolled": true
   },
   "outputs": [
    {
     "data": {
      "text/html": [
       "<!-- http://127.0.0.1:7001/140197208701296/ -->\n",
       "<iframe src=\"http://127.0.0.1:7001/140197208701296/\" width=100% height=800 frameBorder=\"0\"></iframe>"
      ]
     },
     "metadata": {},
     "output_type": "display_data"
    }
   ],
   "source": [
    "# understand individual predictions\n",
    "ebm_local = ebm.explain_local(X_test, y_test)\n",
    "show(ebm_local)"
   ]
  },
  {
   "cell_type": "code",
   "execution_count": 22,
   "id": "1dd2cad7",
   "metadata": {
    "scrolled": true
   },
   "outputs": [
    {
     "name": "stdout",
     "output_type": "stream",
     "text": [
      "The accuracy of the model is: 0.9214285714285714\n"
     ]
    }
   ],
   "source": [
    "# Return the mean accuracy on the given test data and labels\n",
    "acc = ebm.score(X_test, y_test)\n",
    "print(\"The accuracy of the model is: {}\".format(acc))"
   ]
  },
  {
   "cell_type": "code",
   "execution_count": 23,
   "id": "cc23e125",
   "metadata": {},
   "outputs": [
    {
     "data": {
      "text/html": [
       "<!-- http://127.0.0.1:7001/140197210534624/ -->\n",
       "<iframe src=\"http://127.0.0.1:7001/140197210534624/\" width=100% height=800 frameBorder=\"0\"></iframe>"
      ]
     },
     "metadata": {},
     "output_type": "display_data"
    },
    {
     "name": "stdout",
     "output_type": "stream",
     "text": [
      "The accuracy of the model is: 0.9498806682577565\n"
     ]
    }
   ],
   "source": [
    "# fitting a ebm to the data where smote oversampling was used\n",
    "\n",
    "# using smote data\n",
    "# split dataset in features and target variable\n",
    "feature_cols = rf_smote.columns[1:len(rf_smote.columns)-4]\n",
    "X_smote = rf_smote[feature_cols] # Features\n",
    "y_smote = rf_smote.Biopsy # Target variable\n",
    "\n",
    "# Split dataset into training set and test set\n",
    "X_train_smote, X_test_smote, y_train_smote, y_test_smote = train_test_split(X_smote, y_smote, test_size=0.3, random_state=1) # 70% training and 30% test\n",
    "\n",
    "# fit an ebm\n",
    "ebm_smote = ExplainableBoostingClassifier()\n",
    "ebm_smote.fit(X_train_smote, y_train_smote)\n",
    "\n",
    "# understand the model\n",
    "ebm_smote_global = ebm_smote.explain_global()\n",
    "show(ebm_smote_global)\n",
    "\n",
    "# Return the mean accuracy on the given test data and labels\n",
    "acc_smote = ebm_smote.score(X_test_smote, y_test_smote)\n",
    "print(\"The accuracy of the model is: {}\".format(acc_smote))"
   ]
  },
  {
   "cell_type": "code",
   "execution_count": null,
   "id": "c170929d",
   "metadata": {},
   "outputs": [],
   "source": []
  }
 ],
 "metadata": {
  "kernelspec": {
   "display_name": "Python 3 (ipykernel)",
   "language": "python",
   "name": "python3"
  },
  "language_info": {
   "codemirror_mode": {
    "name": "ipython",
    "version": 3
   },
   "file_extension": ".py",
   "mimetype": "text/x-python",
   "name": "python",
   "nbconvert_exporter": "python",
   "pygments_lexer": "ipython3",
   "version": "3.9.7"
  }
 },
 "nbformat": 4,
 "nbformat_minor": 5
}
