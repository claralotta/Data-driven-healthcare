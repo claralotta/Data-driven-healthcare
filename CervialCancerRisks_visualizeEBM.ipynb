{
 "cells": [
  {
   "cell_type": "markdown",
   "id": "e0cbebca",
   "metadata": {},
   "source": [
    "# Data Preparation"
   ]
  },
  {
   "cell_type": "code",
   "execution_count": 1,
   "id": "50181630",
   "metadata": {
    "pycharm": {
     "is_executing": false
    }
   },
   "outputs": [],
   "source": [
    "#import libraries\n",
    "\n",
    "import pandas as pd\n",
    "import seaborn as sns\n",
    "import matplotlib.pyplot as plt\n",
    "import numpy as np\n",
    "\n",
    "#smote data rebalancing\n",
    "from imblearn.over_sampling import SMOTE, RandomOverSampler\n",
    "\n",
    "#normalization\n",
    "from sklearn import preprocessing\n",
    "\n",
    "#classification\n",
    "from sklearn.model_selection import train_test_split\n",
    "from interpret.glassbox import ExplainableBoostingClassifier\n",
    "from interpret import show\n",
    "from sklearn.model_selection import cross_val_score\n",
    "from sklearn.metrics import confusion_matrix, roc_auc_score, precision_recall_fscore_support\n",
    "\n",
    "import warnings\n",
    "warnings.filterwarnings('ignore')"
   ]
  },
  {
   "cell_type": "markdown",
   "id": "7f147f60",
   "metadata": {},
   "source": [
    "# Function definitions"
   ]
  },
  {
   "cell_type": "code",
   "execution_count": 2,
   "id": "9f5573b0",
   "metadata": {},
   "outputs": [],
   "source": [
    "def meanImputation(df_train, df_test):\n",
    "    \"\"\"Data imputation using mean/mode of columns\n",
    "    Following the methods described in: Razaliet al. (2020).\n",
    "    Risk Factors of Cervical Cancer using Classification in Data Mining.\n",
    "    Journal of Physics: Conference Series. 1529. 022102. 10.1088/1742-6596/1529/2/022102.\n",
    "\n",
    "    Missing values for attribute that have integer data type were filled using the sample mean\n",
    "    while boolean were filled using the sample mode. The mean/mode are calculated on the training\n",
    "    set and the from fitting are saved and then used when predicting on the test set. \n",
    "    \"\"\" \n",
    "    # replace NaN with mode for columns with dtype bool\n",
    "    for label, col in df_train.iteritems():\n",
    "        if label in bool_columns:\n",
    "            columns_mode = col.mode()\n",
    "            df_train[label] = col.fillna(columns_mode[0])\n",
    "            # impute test set with training set mean\n",
    "            df_test[label] = col.fillna(columns_mode[0])\n",
    "\n",
    "            #convert column to bool while we're at it\n",
    "            df_train[label] = df_train[label].astype('bool')\n",
    "            df_test[label] = df_test[label].astype('bool')\n",
    "    \n",
    "    float_columns = df_train.select_dtypes(include=['float64']).columns\n",
    "    \n",
    "    # replace NaN with mean for columns with dtype float\n",
    "    for col in float_columns:\n",
    "        columns_mean = df_train[col].mean()\n",
    "        df_train[col] = df_train[col].fillna(columns_mean)\n",
    "        df_test[col] = df_test[col].fillna(columns_mean)\n",
    "    \n",
    "    return df_train, df_test"
   ]
  },
  {
   "cell_type": "code",
   "execution_count": 3,
   "id": "27335557",
   "metadata": {},
   "outputs": [],
   "source": [
    "# Fitting an explainabe boosting machine\n",
    "# More information on EBMs can be found here: https://github.com/interpretml/interpret\n",
    "def EBM(X_train, y_train, X_test, y_test, showModel):\n",
    "    # fit an ebm\n",
    "    # no interactions between features allowed to simplify explainability\n",
    "    ebm = ExplainableBoostingClassifier(interactions=0)\n",
    "    ebm.fit(X_train, y_train)\n",
    "\n",
    "    if showModel:\n",
    "        # understand the model\n",
    "        ebm_global = ebm.explain_global()\n",
    "        show(ebm_global)\n",
    "\n",
    "        # understand individual predictions\n",
    "        ebm_local = ebm.explain_local(X_test, y_test)\n",
    "        show(ebm_local)\n",
    "    \n",
    "    # return the mean accuracy on the given test data and labels\n",
    "    acc = ebm.score(X_test, y_test)\n",
    "    \n",
    "    # return predictions\n",
    "    pred = ebm.predict(X_test)\n",
    "    \n",
    "    return acc, ebm, pred"
   ]
  },
  {
   "cell_type": "markdown",
   "id": "4c7ecdfa",
   "metadata": {},
   "source": [
    "# Loading Dataset"
   ]
  },
  {
   "cell_type": "code",
   "execution_count": 4,
   "id": "7bffc6d4",
   "metadata": {},
   "outputs": [],
   "source": [
    "# https://archive-beta.ics.uci.edu/ml/datasets/cervical+cancer+risk+factors\n",
    "\"\"\"\n",
    "The dataset was collected at 'Hospital Universitario de Caracas' in Caracas, Venezuela.\n",
    "The dataset comprises demographic information, habits, and historic medical records of 858 patients.\n",
    "Several patients decided not to answer some of the questions because of privacy concerns (missing values).\n",
    "\"\"\"\n",
    "\n",
    "rf = pd.read_csv('risk_factors_cervical_cancer.csv',encoding='utf8')"
   ]
  },
  {
   "cell_type": "code",
   "execution_count": 5,
   "id": "d370407b",
   "metadata": {
    "pycharm": {
     "name": "#%%\n"
    }
   },
   "outputs": [],
   "source": [
    "#rf.info()"
   ]
  },
  {
   "cell_type": "markdown",
   "id": "c3a76d55",
   "metadata": {
    "pycharm": {
     "name": "#%% md\n"
    }
   },
   "source": [
    "# Covert data to usable datatypes"
   ]
  },
  {
   "cell_type": "code",
   "execution_count": 6,
   "id": "efc42aa9",
   "metadata": {
    "pycharm": {
     "name": "#%%\n"
    }
   },
   "outputs": [],
   "source": [
    "# replace missing values with NaN\n",
    "rf = rf.replace('?',np.nan)\n",
    "\n",
    "# covert everything to float64, some classes will be converted to bool once missing values are taken care of\n",
    "for label, col in rf.iteritems():\n",
    "    rf[label] = pd.to_numeric(col, errors='coerce')\n",
    "\n",
    "# TODO: some things are still int after this and object types get transformed to bool automatically. But NaN values\n",
    "# are not falsly converted to True so that should be okay."
   ]
  },
  {
   "cell_type": "markdown",
   "id": "281d83df",
   "metadata": {},
   "source": [
    "# Examine data"
   ]
  },
  {
   "cell_type": "markdown",
   "id": "55307b39",
   "metadata": {
    "pycharm": {
     "name": "#%% md\n"
    }
   },
   "source": [
    "## Check missing values per column"
   ]
  },
  {
   "cell_type": "code",
   "execution_count": 7,
   "id": "183f3466",
   "metadata": {},
   "outputs": [
    {
     "name": "stdout",
     "output_type": "stream",
     "text": [
      "On average 13.192016317016318 % are missing\n"
     ]
    },
    {
     "data": {
      "text/html": [
       "<div>\n",
       "<style scoped>\n",
       "    .dataframe tbody tr th:only-of-type {\n",
       "        vertical-align: middle;\n",
       "    }\n",
       "\n",
       "    .dataframe tbody tr th {\n",
       "        vertical-align: top;\n",
       "    }\n",
       "\n",
       "    .dataframe thead th {\n",
       "        text-align: right;\n",
       "    }\n",
       "</style>\n",
       "<table border=\"1\" class=\"dataframe\">\n",
       "  <thead>\n",
       "    <tr style=\"text-align: right;\">\n",
       "      <th></th>\n",
       "      <th>column_name</th>\n",
       "      <th>percent_missing</th>\n",
       "    </tr>\n",
       "  </thead>\n",
       "  <tbody>\n",
       "    <tr>\n",
       "      <th>Age</th>\n",
       "      <td>Age</td>\n",
       "      <td>0.000000</td>\n",
       "    </tr>\n",
       "    <tr>\n",
       "      <th>Number of sexual partners</th>\n",
       "      <td>Number of sexual partners</td>\n",
       "      <td>3.030303</td>\n",
       "    </tr>\n",
       "    <tr>\n",
       "      <th>First sexual intercourse</th>\n",
       "      <td>First sexual intercourse</td>\n",
       "      <td>0.815851</td>\n",
       "    </tr>\n",
       "    <tr>\n",
       "      <th>Num of pregnancies</th>\n",
       "      <td>Num of pregnancies</td>\n",
       "      <td>6.526807</td>\n",
       "    </tr>\n",
       "    <tr>\n",
       "      <th>Smokes</th>\n",
       "      <td>Smokes</td>\n",
       "      <td>1.515152</td>\n",
       "    </tr>\n",
       "    <tr>\n",
       "      <th>Smokes (years)</th>\n",
       "      <td>Smokes (years)</td>\n",
       "      <td>1.515152</td>\n",
       "    </tr>\n",
       "    <tr>\n",
       "      <th>Smokes (packs/year)</th>\n",
       "      <td>Smokes (packs/year)</td>\n",
       "      <td>1.515152</td>\n",
       "    </tr>\n",
       "    <tr>\n",
       "      <th>Hormonal Contraceptives</th>\n",
       "      <td>Hormonal Contraceptives</td>\n",
       "      <td>12.587413</td>\n",
       "    </tr>\n",
       "    <tr>\n",
       "      <th>Hormonal Contraceptives (years)</th>\n",
       "      <td>Hormonal Contraceptives (years)</td>\n",
       "      <td>12.587413</td>\n",
       "    </tr>\n",
       "    <tr>\n",
       "      <th>IUD</th>\n",
       "      <td>IUD</td>\n",
       "      <td>13.636364</td>\n",
       "    </tr>\n",
       "    <tr>\n",
       "      <th>IUD (years)</th>\n",
       "      <td>IUD (years)</td>\n",
       "      <td>13.636364</td>\n",
       "    </tr>\n",
       "    <tr>\n",
       "      <th>STDs</th>\n",
       "      <td>STDs</td>\n",
       "      <td>12.237762</td>\n",
       "    </tr>\n",
       "    <tr>\n",
       "      <th>STDs (number)</th>\n",
       "      <td>STDs (number)</td>\n",
       "      <td>12.237762</td>\n",
       "    </tr>\n",
       "    <tr>\n",
       "      <th>STDs:condylomatosis</th>\n",
       "      <td>STDs:condylomatosis</td>\n",
       "      <td>12.237762</td>\n",
       "    </tr>\n",
       "    <tr>\n",
       "      <th>STDs:cervical condylomatosis</th>\n",
       "      <td>STDs:cervical condylomatosis</td>\n",
       "      <td>12.237762</td>\n",
       "    </tr>\n",
       "    <tr>\n",
       "      <th>STDs:vaginal condylomatosis</th>\n",
       "      <td>STDs:vaginal condylomatosis</td>\n",
       "      <td>12.237762</td>\n",
       "    </tr>\n",
       "    <tr>\n",
       "      <th>STDs:vulvo-perineal condylomatosis</th>\n",
       "      <td>STDs:vulvo-perineal condylomatosis</td>\n",
       "      <td>12.237762</td>\n",
       "    </tr>\n",
       "    <tr>\n",
       "      <th>STDs:syphilis</th>\n",
       "      <td>STDs:syphilis</td>\n",
       "      <td>12.237762</td>\n",
       "    </tr>\n",
       "    <tr>\n",
       "      <th>STDs:pelvic inflammatory disease</th>\n",
       "      <td>STDs:pelvic inflammatory disease</td>\n",
       "      <td>12.237762</td>\n",
       "    </tr>\n",
       "    <tr>\n",
       "      <th>STDs:genital herpes</th>\n",
       "      <td>STDs:genital herpes</td>\n",
       "      <td>12.237762</td>\n",
       "    </tr>\n",
       "    <tr>\n",
       "      <th>STDs:molluscum contagiosum</th>\n",
       "      <td>STDs:molluscum contagiosum</td>\n",
       "      <td>12.237762</td>\n",
       "    </tr>\n",
       "    <tr>\n",
       "      <th>STDs:AIDS</th>\n",
       "      <td>STDs:AIDS</td>\n",
       "      <td>12.237762</td>\n",
       "    </tr>\n",
       "    <tr>\n",
       "      <th>STDs:HIV</th>\n",
       "      <td>STDs:HIV</td>\n",
       "      <td>12.237762</td>\n",
       "    </tr>\n",
       "    <tr>\n",
       "      <th>STDs:Hepatitis B</th>\n",
       "      <td>STDs:Hepatitis B</td>\n",
       "      <td>12.237762</td>\n",
       "    </tr>\n",
       "    <tr>\n",
       "      <th>STDs:HPV</th>\n",
       "      <td>STDs:HPV</td>\n",
       "      <td>12.237762</td>\n",
       "    </tr>\n",
       "    <tr>\n",
       "      <th>STDs: Number of diagnosis</th>\n",
       "      <td>STDs: Number of diagnosis</td>\n",
       "      <td>0.000000</td>\n",
       "    </tr>\n",
       "    <tr>\n",
       "      <th>STDs: Time since first diagnosis</th>\n",
       "      <td>STDs: Time since first diagnosis</td>\n",
       "      <td>91.724942</td>\n",
       "    </tr>\n",
       "    <tr>\n",
       "      <th>STDs: Time since last diagnosis</th>\n",
       "      <td>STDs: Time since last diagnosis</td>\n",
       "      <td>91.724942</td>\n",
       "    </tr>\n",
       "    <tr>\n",
       "      <th>Dx:Cancer</th>\n",
       "      <td>Dx:Cancer</td>\n",
       "      <td>0.000000</td>\n",
       "    </tr>\n",
       "    <tr>\n",
       "      <th>Dx:CIN</th>\n",
       "      <td>Dx:CIN</td>\n",
       "      <td>0.000000</td>\n",
       "    </tr>\n",
       "    <tr>\n",
       "      <th>Dx:HPV</th>\n",
       "      <td>Dx:HPV</td>\n",
       "      <td>0.000000</td>\n",
       "    </tr>\n",
       "    <tr>\n",
       "      <th>Dx</th>\n",
       "      <td>Dx</td>\n",
       "      <td>0.000000</td>\n",
       "    </tr>\n",
       "    <tr>\n",
       "      <th>Hinselmann</th>\n",
       "      <td>Hinselmann</td>\n",
       "      <td>0.000000</td>\n",
       "    </tr>\n",
       "    <tr>\n",
       "      <th>Schiller</th>\n",
       "      <td>Schiller</td>\n",
       "      <td>0.000000</td>\n",
       "    </tr>\n",
       "    <tr>\n",
       "      <th>Citology</th>\n",
       "      <td>Citology</td>\n",
       "      <td>0.000000</td>\n",
       "    </tr>\n",
       "    <tr>\n",
       "      <th>Biopsy</th>\n",
       "      <td>Biopsy</td>\n",
       "      <td>0.000000</td>\n",
       "    </tr>\n",
       "  </tbody>\n",
       "</table>\n",
       "</div>"
      ],
      "text/plain": [
       "                                                           column_name  \\\n",
       "Age                                                                Age   \n",
       "Number of sexual partners                    Number of sexual partners   \n",
       "First sexual intercourse                      First sexual intercourse   \n",
       "Num of pregnancies                                  Num of pregnancies   \n",
       "Smokes                                                          Smokes   \n",
       "Smokes (years)                                          Smokes (years)   \n",
       "Smokes (packs/year)                                Smokes (packs/year)   \n",
       "Hormonal Contraceptives                        Hormonal Contraceptives   \n",
       "Hormonal Contraceptives (years)        Hormonal Contraceptives (years)   \n",
       "IUD                                                                IUD   \n",
       "IUD (years)                                                IUD (years)   \n",
       "STDs                                                              STDs   \n",
       "STDs (number)                                            STDs (number)   \n",
       "STDs:condylomatosis                                STDs:condylomatosis   \n",
       "STDs:cervical condylomatosis              STDs:cervical condylomatosis   \n",
       "STDs:vaginal condylomatosis                STDs:vaginal condylomatosis   \n",
       "STDs:vulvo-perineal condylomatosis  STDs:vulvo-perineal condylomatosis   \n",
       "STDs:syphilis                                            STDs:syphilis   \n",
       "STDs:pelvic inflammatory disease      STDs:pelvic inflammatory disease   \n",
       "STDs:genital herpes                                STDs:genital herpes   \n",
       "STDs:molluscum contagiosum                  STDs:molluscum contagiosum   \n",
       "STDs:AIDS                                                    STDs:AIDS   \n",
       "STDs:HIV                                                      STDs:HIV   \n",
       "STDs:Hepatitis B                                      STDs:Hepatitis B   \n",
       "STDs:HPV                                                      STDs:HPV   \n",
       "STDs: Number of diagnosis                    STDs: Number of diagnosis   \n",
       "STDs: Time since first diagnosis      STDs: Time since first diagnosis   \n",
       "STDs: Time since last diagnosis        STDs: Time since last diagnosis   \n",
       "Dx:Cancer                                                    Dx:Cancer   \n",
       "Dx:CIN                                                          Dx:CIN   \n",
       "Dx:HPV                                                          Dx:HPV   \n",
       "Dx                                                                  Dx   \n",
       "Hinselmann                                                  Hinselmann   \n",
       "Schiller                                                      Schiller   \n",
       "Citology                                                      Citology   \n",
       "Biopsy                                                          Biopsy   \n",
       "\n",
       "                                    percent_missing  \n",
       "Age                                        0.000000  \n",
       "Number of sexual partners                  3.030303  \n",
       "First sexual intercourse                   0.815851  \n",
       "Num of pregnancies                         6.526807  \n",
       "Smokes                                     1.515152  \n",
       "Smokes (years)                             1.515152  \n",
       "Smokes (packs/year)                        1.515152  \n",
       "Hormonal Contraceptives                   12.587413  \n",
       "Hormonal Contraceptives (years)           12.587413  \n",
       "IUD                                       13.636364  \n",
       "IUD (years)                               13.636364  \n",
       "STDs                                      12.237762  \n",
       "STDs (number)                             12.237762  \n",
       "STDs:condylomatosis                       12.237762  \n",
       "STDs:cervical condylomatosis              12.237762  \n",
       "STDs:vaginal condylomatosis               12.237762  \n",
       "STDs:vulvo-perineal condylomatosis        12.237762  \n",
       "STDs:syphilis                             12.237762  \n",
       "STDs:pelvic inflammatory disease          12.237762  \n",
       "STDs:genital herpes                       12.237762  \n",
       "STDs:molluscum contagiosum                12.237762  \n",
       "STDs:AIDS                                 12.237762  \n",
       "STDs:HIV                                  12.237762  \n",
       "STDs:Hepatitis B                          12.237762  \n",
       "STDs:HPV                                  12.237762  \n",
       "STDs: Number of diagnosis                  0.000000  \n",
       "STDs: Time since first diagnosis          91.724942  \n",
       "STDs: Time since last diagnosis           91.724942  \n",
       "Dx:Cancer                                  0.000000  \n",
       "Dx:CIN                                     0.000000  \n",
       "Dx:HPV                                     0.000000  \n",
       "Dx                                         0.000000  \n",
       "Hinselmann                                 0.000000  \n",
       "Schiller                                   0.000000  \n",
       "Citology                                   0.000000  \n",
       "Biopsy                                     0.000000  "
      ]
     },
     "execution_count": 7,
     "metadata": {},
     "output_type": "execute_result"
    }
   ],
   "source": [
    "percent_missing = rf.isnull().sum() * 100 / len(rf)\n",
    "missing_value_df = pd.DataFrame({'column_name': rf.columns,\n",
    "                                 'percent_missing': percent_missing})\n",
    "print(\"On average {} % are missing\".format(missing_value_df['percent_missing'][:-4].mean()))\n",
    "missing_value_df"
   ]
  },
  {
   "cell_type": "code",
   "execution_count": 8,
   "id": "af2afd0c",
   "metadata": {
    "pycharm": {
     "name": "#%%\n"
    }
   },
   "outputs": [
    {
     "name": "stdout",
     "output_type": "stream",
     "text": [
      "The following columns were removed: \n",
      "STDs: Time since first diagnosis    STDs: Time since first diagnosis\n",
      "STDs: Time since last diagnosis      STDs: Time since last diagnosis\n",
      "Name: column_name, dtype: object\n"
     ]
    }
   ],
   "source": [
    "# remove columns with more than 20% missing\n",
    "selected_columns = missing_value_df.loc[missing_value_df['percent_missing'] >= 20].iloc[:, 0]\n",
    "print(\"The following columns were removed: \\n{}\".format(selected_columns[:]))\n",
    "\n",
    "for col in selected_columns:\n",
    "    rf = rf.drop([col], axis=1)"
   ]
  },
  {
   "cell_type": "markdown",
   "id": "5b2e4535",
   "metadata": {
    "pycharm": {
     "name": "#%% md\n"
    }
   },
   "source": [
    "## Check missing values per row"
   ]
  },
  {
   "cell_type": "markdown",
   "id": "e98915b1",
   "metadata": {},
   "source": [
    "We chose to exclude rows that have more than 15% of data missing. "
   ]
  },
  {
   "cell_type": "code",
   "execution_count": 9,
   "id": "1f8bda08",
   "metadata": {
    "pycharm": {
     "name": "#%%\n"
    }
   },
   "outputs": [
    {
     "name": "stdout",
     "output_type": "stream",
     "text": [
      "106 number of rows were removed\n"
     ]
    }
   ],
   "source": [
    "missing_count = []\n",
    "for idx in range(len(rf)):\n",
    "    missing = rf.loc[[idx]].isna().sum().sum()\n",
    "    missing_count.append(missing)\n",
    "\n",
    "removed = 0\n",
    "for idx, val in enumerate(missing_count):\n",
    "    # Remove all rows where more than 15% of the data are missing\n",
    "    if val >= len(rf.columns)*0.15:\n",
    "        rf = rf.drop(idx)\n",
    "        removed+=1\n",
    "print(\"{} number of rows were removed\".format(removed))"
   ]
  },
  {
   "cell_type": "markdown",
   "id": "96e6b478",
   "metadata": {},
   "source": [
    "## Investigate class imbalance"
   ]
  },
  {
   "cell_type": "code",
   "execution_count": 10,
   "id": "62d21d40",
   "metadata": {
    "scrolled": true
   },
   "outputs": [
    {
     "data": {
      "text/html": [
       "<div>\n",
       "<style scoped>\n",
       "    .dataframe tbody tr th:only-of-type {\n",
       "        vertical-align: middle;\n",
       "    }\n",
       "\n",
       "    .dataframe tbody tr th {\n",
       "        vertical-align: top;\n",
       "    }\n",
       "\n",
       "    .dataframe thead th {\n",
       "        text-align: right;\n",
       "    }\n",
       "</style>\n",
       "<table border=\"1\" class=\"dataframe\">\n",
       "  <thead>\n",
       "    <tr style=\"text-align: right;\">\n",
       "      <th></th>\n",
       "      <th>Age</th>\n",
       "      <th>Number of sexual partners</th>\n",
       "      <th>First sexual intercourse</th>\n",
       "      <th>Num of pregnancies</th>\n",
       "      <th>Smokes</th>\n",
       "      <th>Smokes (years)</th>\n",
       "      <th>Smokes (packs/year)</th>\n",
       "      <th>Hormonal Contraceptives</th>\n",
       "      <th>Hormonal Contraceptives (years)</th>\n",
       "      <th>IUD</th>\n",
       "      <th>...</th>\n",
       "      <th>STDs:Hepatitis B</th>\n",
       "      <th>STDs:HPV</th>\n",
       "      <th>STDs: Number of diagnosis</th>\n",
       "      <th>Dx:Cancer</th>\n",
       "      <th>Dx:CIN</th>\n",
       "      <th>Dx:HPV</th>\n",
       "      <th>Dx</th>\n",
       "      <th>Hinselmann</th>\n",
       "      <th>Schiller</th>\n",
       "      <th>Citology</th>\n",
       "    </tr>\n",
       "    <tr>\n",
       "      <th>Biopsy</th>\n",
       "      <th></th>\n",
       "      <th></th>\n",
       "      <th></th>\n",
       "      <th></th>\n",
       "      <th></th>\n",
       "      <th></th>\n",
       "      <th></th>\n",
       "      <th></th>\n",
       "      <th></th>\n",
       "      <th></th>\n",
       "      <th></th>\n",
       "      <th></th>\n",
       "      <th></th>\n",
       "      <th></th>\n",
       "      <th></th>\n",
       "      <th></th>\n",
       "      <th></th>\n",
       "      <th></th>\n",
       "      <th></th>\n",
       "      <th></th>\n",
       "      <th></th>\n",
       "    </tr>\n",
       "  </thead>\n",
       "  <tbody>\n",
       "    <tr>\n",
       "      <th>0</th>\n",
       "      <td>699</td>\n",
       "      <td>686</td>\n",
       "      <td>693</td>\n",
       "      <td>658</td>\n",
       "      <td>691</td>\n",
       "      <td>691</td>\n",
       "      <td>691</td>\n",
       "      <td>687</td>\n",
       "      <td>687</td>\n",
       "      <td>686</td>\n",
       "      <td>...</td>\n",
       "      <td>699</td>\n",
       "      <td>699</td>\n",
       "      <td>699</td>\n",
       "      <td>699</td>\n",
       "      <td>699</td>\n",
       "      <td>699</td>\n",
       "      <td>699</td>\n",
       "      <td>699</td>\n",
       "      <td>699</td>\n",
       "      <td>699</td>\n",
       "    </tr>\n",
       "    <tr>\n",
       "      <th>1</th>\n",
       "      <td>53</td>\n",
       "      <td>52</td>\n",
       "      <td>53</td>\n",
       "      <td>47</td>\n",
       "      <td>52</td>\n",
       "      <td>52</td>\n",
       "      <td>52</td>\n",
       "      <td>53</td>\n",
       "      <td>53</td>\n",
       "      <td>51</td>\n",
       "      <td>...</td>\n",
       "      <td>53</td>\n",
       "      <td>53</td>\n",
       "      <td>53</td>\n",
       "      <td>53</td>\n",
       "      <td>53</td>\n",
       "      <td>53</td>\n",
       "      <td>53</td>\n",
       "      <td>53</td>\n",
       "      <td>53</td>\n",
       "      <td>53</td>\n",
       "    </tr>\n",
       "  </tbody>\n",
       "</table>\n",
       "<p>2 rows × 33 columns</p>\n",
       "</div>"
      ],
      "text/plain": [
       "        Age  Number of sexual partners  First sexual intercourse  \\\n",
       "Biopsy                                                             \n",
       "0       699                        686                       693   \n",
       "1        53                         52                        53   \n",
       "\n",
       "        Num of pregnancies  Smokes  Smokes (years)  Smokes (packs/year)  \\\n",
       "Biopsy                                                                    \n",
       "0                      658     691             691                  691   \n",
       "1                       47      52              52                   52   \n",
       "\n",
       "        Hormonal Contraceptives  Hormonal Contraceptives (years)  IUD  ...  \\\n",
       "Biopsy                                                                 ...   \n",
       "0                           687                              687  686  ...   \n",
       "1                            53                               53   51  ...   \n",
       "\n",
       "        STDs:Hepatitis B  STDs:HPV  STDs: Number of diagnosis  Dx:Cancer  \\\n",
       "Biopsy                                                                     \n",
       "0                    699       699                        699        699   \n",
       "1                     53        53                         53         53   \n",
       "\n",
       "        Dx:CIN  Dx:HPV   Dx  Hinselmann  Schiller  Citology  \n",
       "Biopsy                                                       \n",
       "0          699     699  699         699       699       699  \n",
       "1           53      53   53          53        53        53  \n",
       "\n",
       "[2 rows x 33 columns]"
      ]
     },
     "execution_count": 10,
     "metadata": {},
     "output_type": "execute_result"
    }
   ],
   "source": [
    "# get number of patients per group\n",
    "rf.groupby('Biopsy').count()"
   ]
  },
  {
   "cell_type": "markdown",
   "id": "6ebe2b30",
   "metadata": {
    "pycharm": {
     "name": "#%% md\n"
    }
   },
   "source": [
    "## Investigate STDs (number) vs STDs: Number of diagnosis"
   ]
  },
  {
   "cell_type": "code",
   "execution_count": 11,
   "id": "b74d25d6",
   "metadata": {
    "pycharm": {
     "name": "#%%\n"
    }
   },
   "outputs": [],
   "source": [
    "# check if STDs (number) and STDs: Number of diagnosis are the same\n",
    "STD_comparison = np.where((rf['STDs (number)']==rf['STDs: Number of diagnosis']), True, False)\n",
    "\n",
    "# check manual calculation with STDs(number) if STDS (number) and STDs: Number of diagnosis not the same\n",
    "if not STD_comparison.all():\n",
    "    # create a new column with the sum of all STDs\n",
    "    rf['STDs (number manual)'] = (rf['STDs:condylomatosis'] + rf['STDs:cervical condylomatosis'] +\n",
    "        rf['STDs:vaginal condylomatosis'] + rf['STDs:vulvo-perineal condylomatosis'] +\n",
    "        rf['STDs:syphilis'] + rf['STDs:pelvic inflammatory disease'] +\n",
    "        rf['STDs:genital herpes'] + rf['STDs:molluscum contagiosum'] +\n",
    "        rf['STDs:AIDS'] + rf['STDs:HIV'] +\n",
    "        rf['STDs:Hepatitis B'] + rf['STDs:HPV'])\n",
    "    \n",
    "    # if they're the same drop the new column again\n",
    "    manual_comp = np.where((rf['STDs (number)']==rf['STDs (number manual)']), True, False)\n",
    "    if manual_comp.all():\n",
    "        rf = rf.drop(['STDs (number manual)'], axis=1)"
   ]
  },
  {
   "cell_type": "code",
   "execution_count": 12,
   "id": "7fc9f2eb",
   "metadata": {
    "pycharm": {
     "name": "#%%\n"
    }
   },
   "outputs": [
    {
     "data": {
      "image/png": "[encoded data removed]",
      "text/plain": [
       "<Figure size 432x288 with 1 Axes>"
      ]
     },
     "metadata": {
      "needs_background": "light"
     },
     "output_type": "display_data"
    }
   ],
   "source": [
    "# STDs: Number of diagnosis is also not the same as just STDs\n",
    "STD_comparison = np.where((rf['STDs']==rf['STDs: Number of diagnosis']), True, False).all() #=False\n",
    "\n",
    "# is STDs: Number of diagnosis a encoded value?\n",
    "minimum = rf['STDs: Number of diagnosis'].min() #=0\n",
    "maximum = rf['STDs: Number of diagnosis'].max() #=3\n",
    "# unlikely that it's the diagnosis code if the max is 3\n",
    "\n",
    "# plot in histogram\n",
    "ax = rf.hist(column=[\"STDs: Number of diagnosis\"], bins=maximum)\n",
    "\n",
    "# we don't know exactly what this column\n",
    "# as our goal is to create a transparent model we decided to exclude the column\n",
    "rf = rf.drop(['STDs: Number of diagnosis'], axis=1)"
   ]
  },
  {
   "cell_type": "markdown",
   "id": "9cf9eddd",
   "metadata": {
    "pycharm": {
     "name": "#%% md\n"
    }
   },
   "source": [
    "# Splitting the dataset into training and testing sets"
   ]
  },
  {
   "cell_type": "code",
   "execution_count": 13,
   "id": "657d9657",
   "metadata": {
    "pycharm": {
     "name": "#%%\n"
    }
   },
   "outputs": [],
   "source": [
    "# using oversampled data\n",
    "# split dataset in features and target variable\n",
    "feature_cols = rf.columns[0:len(rf.columns)-4]\n",
    "X = rf[feature_cols] # Features\n",
    "y = rf.Biopsy # Target variable\n",
    "\n",
    "# Split dataset into training set and test set\n",
    "X_train, X_test, y_train, y_test = train_test_split(X, y, test_size=0.2, stratify = y, random_state=1) # 80% training and 20% test"
   ]
  },
  {
   "cell_type": "markdown",
   "id": "b195f52e",
   "metadata": {},
   "source": [
    "## Data imputation\n",
    "Method 1:\n",
    "Following the methods described in:\n",
    "Razali, Nazim & Mostafa, Salama & Mustapha, Aida & Abd Wahab, Mohd Helmy & Ibrahim, Nurul. (2020). Risk Factors of Cervical Cancer using Classification in Data Mining. Journal of Physics: Conference Series. 1529. 022102. 10.1088/1742-6596/1529/2/022102. \n",
    "\n",
    "\"Missing values for attribute that have integer data type were filled using the sample mean while boolean\n",
    "were filled using the sample mode.\"\n",
    "\n",
    "Method 2:\n",
    "Missing values are filled with a constant value that has meaning in the data otherwise. -1 was chosen."
   ]
  },
  {
   "cell_type": "code",
   "execution_count": 14,
   "id": "79d100b1",
   "metadata": {},
   "outputs": [],
   "source": [
    "# imputation on X_train and X_test\n",
    "# minority class is not missing any data, known from analysis before\n",
    "\n",
    "# bool columns in dataframe\n",
    "global bool_columns\n",
    "bool_columns = ['Smokes','Hormonal Contraceptives', 'IUD', 'STDs',\n",
    "                'STDs:condylomatosis', 'STDs:cervical condylomatosis',\n",
    "                'STDs:vaginal condylomatosis', 'STDs:vulvo-perineal condylomatosis',\n",
    "                'STDs:syphilis', 'STDs:pelvic inflammatory disease', \n",
    "                'STDs:genital herpes', 'STDs:molluscum contagiosum',\n",
    "                'STDs:AIDS', 'STDs:HIV', 'STDs:Hepatitis B', 'STDs:HPV',\n",
    "                'Dx:Cancer', 'Dx:CIN', 'Dx:HPV', 'Dx']\n",
    "\n",
    "\n",
    "# imputation method 2: use unique values that don't/can't otherwise exist in the df. Chosen value: -1\n",
    "X_train_unique_imputation = X_train.copy()\n",
    "X_test_unique_imputation = X_test.copy()\n",
    "\n",
    "X_train_unique_imputation.fillna(-1, inplace=True)\n",
    "X_test_unique_imputation.fillna(-1, inplace=True);"
   ]
  },
  {
   "cell_type": "code",
   "execution_count": 15,
   "id": "b09b5c5f",
   "metadata": {
    "pycharm": {
     "name": "#%%\n"
    },
    "scrolled": true
   },
   "outputs": [
    {
     "data": {
      "text/plain": [
       "0    559\n",
       "1     42\n",
       "Name: Biopsy, dtype: int64"
      ]
     },
     "execution_count": 15,
     "metadata": {},
     "output_type": "execute_result"
    }
   ],
   "source": [
    "# Check minority class imbalance\n",
    "y_train.value_counts()"
   ]
  },
  {
   "cell_type": "code",
   "execution_count": 16,
   "id": "b527cf84",
   "metadata": {},
   "outputs": [
    {
     "data": {
      "text/plain": [
       "0    140\n",
       "1     11\n",
       "Name: Biopsy, dtype: int64"
      ]
     },
     "execution_count": 16,
     "metadata": {},
     "output_type": "execute_result"
    }
   ],
   "source": [
    "y_test.value_counts()"
   ]
  },
  {
   "cell_type": "markdown",
   "id": "7d412d20",
   "metadata": {
    "pycharm": {
     "name": "#%% md\n"
    }
   },
   "source": [
    "# Oversampling of X_train, y_train"
   ]
  },
  {
   "cell_type": "markdown",
   "id": "fa1aa555",
   "metadata": {
    "pycharm": {
     "name": "#%% md\n"
    }
   },
   "source": [
    "## SMOTE oversampling - training data"
   ]
  },
  {
   "cell_type": "code",
   "execution_count": 19,
   "id": "5f758986",
   "metadata": {
    "pycharm": {
     "name": "#%%\n"
    }
   },
   "outputs": [
    {
     "name": "stdout",
     "output_type": "stream",
     "text": [
      "Minority class count after SMOTE oversampling: \n",
      "0    559\n",
      "1    559\n",
      "Name: Biopsy, dtype: int64\n"
     ]
    }
   ],
   "source": [
    "# oversampling using synthetic minority oversampling technique (SMOTE)\n",
    "# see: Chawla N V, Bowyer K W, Hall L O and Kegelmeyer W P 2002 Journal of Artificial Intelligence Research 16 321-357\n",
    "\n",
    "# for reproducibility purposes\n",
    "seed = 100\n",
    "# SMOTE number of neighbors\n",
    "k = 1\n",
    "\n",
    "sm = SMOTE(sampling_strategy='auto', k_neighbors=k, random_state=seed)\n",
    "X_train_smote, y_train_smote = sm.fit_resample(X_train_unique_imputation, y_train)\n",
    "\n",
    "print(\"Minority class count after SMOTE oversampling: \\n{}\".format(y_train_smote.value_counts()))"
   ]
  },
  {
   "cell_type": "markdown",
   "id": "27e8e7c2",
   "metadata": {},
   "source": [
    "# Classification"
   ]
  },
  {
   "cell_type": "markdown",
   "id": "60da8af3",
   "metadata": {
    "pycharm": {
     "name": "#%% md\n"
    }
   },
   "source": [
    "## SMOTE Oversampling, unique value imputation"
   ]
  },
  {
   "cell_type": "code",
   "execution_count": 26,
   "id": "03298ef5",
   "metadata": {
    "scrolled": true,
    "pycharm": {
     "name": "#%%\n"
    }
   },
   "outputs": [
    {
     "data": {
      "text/plain": [
       "ExplainableBoostingClassifier(feature_names=['Age', 'Number of sexual partners',\n",
       "                                             'First sexual intercourse',\n",
       "                                             'Num of pregnancies', 'Smokes',\n",
       "                                             'Smokes (years)',\n",
       "                                             'Smokes (packs/year)',\n",
       "                                             'Hormonal Contraceptives',\n",
       "                                             'Hormonal Contraceptives (years)',\n",
       "                                             'IUD', 'IUD (years)', 'STDs',\n",
       "                                             'STDs (number)',\n",
       "                                             'STDs:condylomatosis',\n",
       "                                             'STDs:cervical condylomatosis',\n",
       "                                             'STDs:vaginal condylomatosis',\n",
       "                                             'STDs...\n",
       "                                             'continuous', 'continuous',\n",
       "                                             'continuous', 'continuous',\n",
       "                                             'continuous', 'continuous',\n",
       "                                             'continuous', 'continuous',\n",
       "                                             'continuous', 'continuous',\n",
       "                                             'categorical', 'categorical',\n",
       "                                             'continuous', 'categorical',\n",
       "                                             'categorical', 'continuous',\n",
       "                                             'categorical', 'categorical',\n",
       "                                             'continuous', 'categorical',\n",
       "                                             'categorical', 'categorical',\n",
       "                                             'categorical', 'categorical',\n",
       "                                             'categorical'],\n",
       "                              interactions=0)"
      ]
     },
     "execution_count": 26,
     "metadata": {},
     "output_type": "execute_result"
    }
   ],
   "source": [
    "ebm_sm = ExplainableBoostingClassifier(interactions=0)\n",
    "ebm_sm.fit(X_train_smote, y_train_smote)"
   ]
  },
  {
   "cell_type": "code",
   "execution_count": 27,
   "id": "01ccb207",
   "metadata": {
    "pycharm": {
     "name": "#%%\n"
    },
    "scrolled": false
   },
   "outputs": [
    {
     "data": {
      "text/html": [
       "<!-- http://127.0.0.1:7001/140732107064272/ -->\n",
       "<iframe src=\"http://127.0.0.1:7001/140732107064272/\" width=100% height=800 frameBorder=\"0\"></iframe>"
      ]
     },
     "metadata": {},
     "output_type": "display_data"
    }
   ],
   "source": [
    "# show local explanations\n",
    "indices = [23, 31, 55, 64, 106, 113, 127, 137, 144]\n",
    "ebm_local_sm = ebm_sm.explain_local(X_test_unique_imputation.iloc[indices], y_test.iloc[indices])\n",
    "\n",
    "show(ebm_local_sm)"
   ]
  },
  {
   "cell_type": "code",
   "execution_count": 28,
   "id": "24800078",
   "metadata": {
    "pycharm": {
     "name": "#%%\n"
    }
   },
   "outputs": [
    {
     "data": {
      "text/html": [
       "<!-- http://127.0.0.1:7001/140732107349584/ -->\n",
       "<iframe src=\"http://127.0.0.1:7001/140732107349584/\" width=100% height=800 frameBorder=\"0\"></iframe>"
      ]
     },
     "metadata": {},
     "output_type": "display_data"
    }
   ],
   "source": [
    "ebm_sm_global = ebm_sm.explain_global()\n",
    "show(ebm_sm_global)"
   ]
  },
  {
   "cell_type": "markdown",
   "id": "08fcaf94",
   "metadata": {},
   "source": [
    "# Results"
   ]
  },
  {
   "cell_type": "code",
   "execution_count": null,
   "id": "41a23a19",
   "metadata": {
    "pycharm": {
     "name": "#%%\n"
    }
   },
   "outputs": [],
   "source": [
    "roc_smote = roc_auc_score(y_test, pred_smote)\n",
    "prec_rec_f1_supp_smote = precision_recall_fscore_support(y_test, pred_smote, average='macro')\n",
    "print(\"SMOTE oversampling: \\naccuracy: {}\\nROC AUC:{}\\nprecision:{} \".format(acc_smote, roc_smote, prec_rec_f1_supp_smote[0]))\n",
    "\n",
    "confusion_matrix(y_test, pred_smote)"
   ]
  }
 ],
 "metadata": {
  "kernelspec": {
   "display_name": "Python 3 (ipykernel)",
   "language": "python",
   "name": "python3"
  },
  "language_info": {
   "codemirror_mode": {
    "name": "ipython",
    "version": 3
   },
   "file_extension": ".py",
   "mimetype": "text/x-python",
   "name": "python",
   "nbconvert_exporter": "python",
   "pygments_lexer": "ipython3",
   "version": "3.7.11"
  },
  "pycharm": {
   "stem_cell": {
    "cell_type": "raw",
    "source": [],
    "metadata": {
     "collapsed": false
    }
   }
  }
 },
 "nbformat": 4,
 "nbformat_minor": 5
}