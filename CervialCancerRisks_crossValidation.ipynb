{
 "cells": [
  {
   "cell_type": "markdown",
   "id": "e0cbebca",
   "metadata": {},
   "source": [
    "# Data Preparation"
   ]
  },
  {
   "cell_type": "code",
   "execution_count": 1,
   "id": "50181630",
   "metadata": {},
   "outputs": [],
   "source": [
    "#import libraries\n",
    "import tabulate\n",
    "import pandas as pd\n",
    "import seaborn as sns\n",
    "import numpy as np\n",
    "\n",
    "#preprocessing\n",
    "from sklearn.impute import SimpleImputer\n",
    "from imblearn.over_sampling import SMOTE, RandomOverSampler\n",
    "\n",
    "#normalization\n",
    "from sklearn import preprocessing\n",
    "\n",
    "#classification\n",
    "from interpret.glassbox import ExplainableBoostingClassifier\n",
    "from sklearn.model_selection import cross_val_score, ShuffleSplit, cross_val_predict, KFold, cross_validate\n",
    "from sklearn.base import BaseEstimator, TransformerMixin\n",
    "from imblearn.pipeline import make_pipeline\n",
    "\n",
    "import warnings\n",
    "warnings.filterwarnings('ignore')"
   ]
  },
  {
   "cell_type": "code",
   "execution_count": 2,
   "id": "1063a1bf",
   "metadata": {},
   "outputs": [],
   "source": [
    "# bool columns in dataframe\n",
    "global bool_columns\n",
    "bool_columns = ['Smokes','Hormonal Contraceptives', 'IUD', 'STDs',\n",
    "                'STDs:condylomatosis', 'STDs:cervical condylomatosis',\n",
    "                'STDs:vaginal condylomatosis', 'STDs:vulvo-perineal condylomatosis',\n",
    "                'STDs:syphilis', 'STDs:pelvic inflammatory disease', \n",
    "                'STDs:genital herpes', 'STDs:molluscum contagiosum',\n",
    "                'STDs:AIDS', 'STDs:HIV', 'STDs:Hepatitis B', 'STDs:HPV',\n",
    "                'Dx:Cancer', 'Dx:CIN', 'Dx:HPV', 'Dx']"
   ]
  },
  {
   "cell_type": "markdown",
   "id": "403503b8",
   "metadata": {},
   "source": [
    "# Function definitions\n",
    "## Mean/mode imputation\n",
    "Data imputation using mean/mode of columns\n",
    "Following the methods described in: Razali et al. (2020).\n",
    "Risk Factors of Cervical Cancer using Classification in Data Mining.\n",
    "Journal of Physics: Conference Series. 1529. 022102. 10.1088/1742-6596/1529/2/022102.\n",
    "\n",
    "Missing values for attribute that have integer data type were filled using the sample mean\n",
    "while boolean were filled using the sample mode.\n",
    "\n",
    "The mean/mode are calculated on the training set and the from fitting are saved and then used when predicting on the test set. "
   ]
  },
  {
   "cell_type": "code",
   "execution_count": 3,
   "id": "5347f28e",
   "metadata": {},
   "outputs": [],
   "source": [
    "def meanCalculation(df):\n",
    "    mean_mode_dict={}\n",
    "    # replace NaN with mode for columns with dtype bool\n",
    "    for label, col in df.iteritems():\n",
    "        if label in bool_columns:\n",
    "            columns_mode = col.mode()\n",
    "            df[label] = col.fillna(columns_mode[0])\n",
    "            mean_mode_dict[label] = bool(columns_mode[0])\n",
    "\n",
    "            #convert column to bool while we're at it\n",
    "            df[label] = df[label].astype('bool')\n",
    "        else:\n",
    "            columns_mean = col.mean()\n",
    "            df[label] = col.fillna(columns_mean) #[0]?\n",
    "            mean_mode_dict[label] = columns_mean\n",
    "        \n",
    "    return df, mean_mode_dict"
   ]
  },
  {
   "cell_type": "code",
   "execution_count": 4,
   "id": "fe532326",
   "metadata": {},
   "outputs": [],
   "source": [
    "def meanImputation(df, mean_mode_dict={}):\n",
    "    # replace NaN with mode for columns with dtype bool\n",
    "    for label, col in df.iteritems():\n",
    "        df[label] = col.fillna(mean_mode_dict[label])\n",
    "\n",
    "    return df"
   ]
  },
  {
   "cell_type": "markdown",
   "id": "3e065801",
   "metadata": {},
   "source": [
    "**Custom transformer**"
   ]
  },
  {
   "cell_type": "code",
   "execution_count": 5,
   "id": "79d100b1",
   "metadata": {},
   "outputs": [],
   "source": [
    "class MeanImputation(BaseEstimator, TransformerMixin):\n",
    "    def __init__(self):\n",
    "        pass\n",
    "    def fit(self, X, y=None):\n",
    "        #Mean value calculation called on train set.\n",
    "        X_ = X.copy() # create copy to avoid changes to original dataset\n",
    "        [X_, mean_mode_dict_] = meanCalculation(X_)\n",
    "        self.mean_mode_dict = mean_mode_dict_\n",
    "        return self\n",
    "    def transform(self, X):\n",
    "        #Mean value imputation called on both sets using mean/mode from train set.\n",
    "        X_ = X.copy() # create copy to avoid changes to original dataset\n",
    "        X_ = meanImputation(X_, self.mean_mode_dict)\n",
    "        return X_"
   ]
  },
  {
   "cell_type": "markdown",
   "id": "9cffa485",
   "metadata": {},
   "source": [
    "# Preprocessing"
   ]
  },
  {
   "cell_type": "markdown",
   "id": "4c7ecdfa",
   "metadata": {},
   "source": [
    "**Loading Dataset**"
   ]
  },
  {
   "cell_type": "code",
   "execution_count": 6,
   "id": "7bffc6d4",
   "metadata": {},
   "outputs": [],
   "source": [
    "# https://archive-beta.ics.uci.edu/ml/datasets/cervical+cancer+risk+factors\n",
    "\"\"\"\n",
    "The dataset was collected at 'Hospital Universitario de Caracas' in Caracas, Venezuela.\n",
    "The dataset comprises demographic information, habits, and historic medical records of 858 patients.\n",
    "Several patients decided not to answer some of the questions because of privacy concerns (missing values).\n",
    "\"\"\"\n",
    "\n",
    "rf = pd.read_csv('risk_factors_cervical_cancer.csv',encoding='utf8')\n",
    "#rf.info()"
   ]
  },
  {
   "cell_type": "markdown",
   "id": "c3a76d55",
   "metadata": {},
   "source": [
    "**Covert data to usable datatypes**"
   ]
  },
  {
   "cell_type": "code",
   "execution_count": 7,
   "id": "efc42aa9",
   "metadata": {},
   "outputs": [],
   "source": [
    "# replace missing values with NaN\n",
    "rf = rf.replace('?',np.nan)\n",
    "\n",
    "# covert everything to float64, some classes will be converted to bool once missing values are taken care of\n",
    "for label, col in rf.iteritems():\n",
    "    rf[label] = pd.to_numeric(col, errors='coerce')\n",
    "\n",
    "#TODO: some things are still int after this and object types get transformed to bool automatically. But NaN values\n",
    "#are not falsly converted to True so that should be okay."
   ]
  },
  {
   "cell_type": "markdown",
   "id": "281d83df",
   "metadata": {},
   "source": [
    "## Examine data"
   ]
  },
  {
   "cell_type": "markdown",
   "id": "55307b39",
   "metadata": {},
   "source": [
    "**Check missing values per column**"
   ]
  },
  {
   "cell_type": "code",
   "execution_count": 8,
   "id": "183f3466",
   "metadata": {},
   "outputs": [],
   "source": [
    "percent_missing = rf.isnull().sum() * 100 / len(rf)\n",
    "missing_value_df = pd.DataFrame({'column_name': rf.columns,\n",
    "                                 'percent_missing': percent_missing})"
   ]
  },
  {
   "cell_type": "code",
   "execution_count": 9,
   "id": "af2afd0c",
   "metadata": {},
   "outputs": [],
   "source": [
    "# remove columns with more than 20% missing\n",
    "selection_columns = missing_value_df.loc[missing_value_df['percent_missing'] >= 20].iloc[:, 0]\n",
    "\n",
    "for col in selection_columns:\n",
    "    rf = rf.drop([col], axis=1)"
   ]
  },
  {
   "cell_type": "markdown",
   "id": "5b2e4535",
   "metadata": {},
   "source": [
    "**Check missing values per row**"
   ]
  },
  {
   "cell_type": "code",
   "execution_count": 10,
   "id": "1f8bda08",
   "metadata": {
    "scrolled": true
   },
   "outputs": [
    {
     "name": "stdout",
     "output_type": "stream",
     "text": [
      "106 number of rows were removed\n"
     ]
    }
   ],
   "source": [
    "missing_count = []\n",
    "for idx in range(len(rf)):\n",
    "    missing = rf.loc[[idx]].isna().sum().sum()\n",
    "    missing_count.append(missing)\n",
    "\n",
    "removed = 0\n",
    "for idx, val in enumerate(missing_count):\n",
    "    # Remove all rows where more than 15% of the data are missing\n",
    "    # If 20% is chosen, 106 patients are excluded\n",
    "    if val >= len(rf.columns)*0.15:\n",
    "        rf = rf.drop(idx)\n",
    "        removed+=1\n",
    "print(\"{} number of rows were removed\".format(removed))"
   ]
  },
  {
   "cell_type": "markdown",
   "id": "96e6b478",
   "metadata": {},
   "source": [
    "**Investigate class imbalances**"
   ]
  },
  {
   "cell_type": "code",
   "execution_count": 11,
   "id": "62d21d40",
   "metadata": {},
   "outputs": [],
   "source": [
    "# get number of patients per group\n",
    "rf.groupby('Biopsy').count();"
   ]
  },
  {
   "cell_type": "markdown",
   "id": "6ebe2b30",
   "metadata": {},
   "source": [
    "**Investigate STDs (number) vs STDs: Number of diagnosis**"
   ]
  },
  {
   "cell_type": "code",
   "execution_count": 12,
   "id": "b74d25d6",
   "metadata": {},
   "outputs": [],
   "source": [
    "# check if STDs (number) and STDs: Number of diagnosis are the same\n",
    "STD_comparison = np.where((rf['STDs (number)']==rf['STDs: Number of diagnosis']), True, False)\n",
    "\n",
    "# check manual calculation with STDs(number) if STDS (number) and STDs: Number of diagnosis not the same\n",
    "if not STD_comparison.all():\n",
    "    # create a new column with the sum of all STDs\n",
    "    rf['STDs (number manual)'] = (rf['STDs:condylomatosis'] + rf['STDs:cervical condylomatosis'] +\n",
    "        rf['STDs:vaginal condylomatosis'] + rf['STDs:vulvo-perineal condylomatosis'] +\n",
    "        rf['STDs:syphilis'] + rf['STDs:pelvic inflammatory disease'] +\n",
    "        rf['STDs:genital herpes'] + rf['STDs:molluscum contagiosum'] +\n",
    "        rf['STDs:AIDS'] + rf['STDs:HIV'] +\n",
    "        rf['STDs:Hepatitis B'] + rf['STDs:HPV'])\n",
    "    \n",
    "    # if they're the same drop the new column again\n",
    "    manual_comp = np.where((rf['STDs (number)']==rf['STDs (number manual)']), True, False)\n",
    "    if manual_comp.all():\n",
    "        rf = rf.drop(['STDs (number manual)'], axis=1)"
   ]
  },
  {
   "cell_type": "code",
   "execution_count": 13,
   "id": "53ff1da1",
   "metadata": {},
   "outputs": [
    {
     "data": {
      "image/png": "[encoded data removed]",
      "text/plain": [
       "<Figure size 432x288 with 1 Axes>"
      ]
     },
     "metadata": {
      "needs_background": "light"
     },
     "output_type": "display_data"
    }
   ],
   "source": [
    "# STDs: Number of diagnosis is also not the same as just STDs\n",
    "STD_comparison = np.where((rf['STDs']==rf['STDs: Number of diagnosis']), True, False).all() #=False\n",
    "\n",
    "# is STDs: Number of diagnosis a encoded value?\n",
    "minimum = rf['STDs: Number of diagnosis'].min() #=0\n",
    "maximum = rf['STDs: Number of diagnosis'].max() #=3\n",
    "# unlikely that it's the diagnosis code if the max is 3\n",
    "\n",
    "# plot in histogram\n",
    "ax = rf.hist(column=[\"STDs: Number of diagnosis\"], bins=maximum)\n",
    "\n",
    "# we don't know exactly what this column\n",
    "# as our goal is to create a transparent model we decided to exclude the column\n",
    "rf = rf.drop(['STDs: Number of diagnosis'], axis=1)"
   ]
  },
  {
   "cell_type": "markdown",
   "id": "27e8e7c2",
   "metadata": {},
   "source": [
    "# Classification"
   ]
  },
  {
   "cell_type": "markdown",
   "id": "5913c2f7",
   "metadata": {},
   "source": [
    "**Explainable boosting classifier metrics**\n",
    "\n",
    "**Pipelines with different oversampling and imputation methods**"
   ]
  },
  {
   "cell_type": "code",
   "execution_count": 14,
   "id": "fbcdbd8f",
   "metadata": {},
   "outputs": [],
   "source": [
    "# split dataset in features and target variable\n",
    "feature_cols = rf.columns[0:len(rf.columns)-4]\n",
    "X = rf[feature_cols] # Features\n",
    "y = rf.Biopsy # Target variable"
   ]
  },
  {
   "cell_type": "code",
   "execution_count": 15,
   "id": "9fe0cda1",
   "metadata": {},
   "outputs": [],
   "source": [
    "# set parameters for pipeline constructions\n",
    "\n",
    "# parameters for SMOTE oversampling\n",
    "# for reproducibility purposes\n",
    "seed = 100\n",
    "# SMOTE number of neighbors\n",
    "k = 1\n",
    "\n",
    "# defining unique imputer\n",
    "unique_imputer = SimpleImputer(fill_value=-1 ,strategy='constant', add_indicator=True, copy=True)\n",
    "\n",
    "# define SMOTE imputer\n",
    "sm = SMOTE(sampling_strategy='auto', k_neighbors=k, random_state=seed)\n",
    "\n",
    "# crossvalidation parameter\n",
    "cv = None # default 5-fold cross validation\n",
    "\n",
    "# define EBM model\n",
    "# More information on EBMs can be found here: https://github.com/interpretml/interpret\n",
    "# No interactions between features allowed to simplify explainability\n",
    "ebm = ExplainableBoostingClassifier(interactions=0)"
   ]
  },
  {
   "cell_type": "code",
   "execution_count": 16,
   "id": "ba5732e3",
   "metadata": {},
   "outputs": [],
   "source": [
    "# pipeline 1 using unique value imputation and random oversampling\n",
    "pipe_1 = make_pipeline(unique_imputer, RandomOverSampler('minority'), ebm)\n",
    "scores_1 = cross_validate(pipe_1, X, y, cv=cv,scoring=['accuracy','roc_auc','f1', 'precision','recall'])\n",
    "#scores_1"
   ]
  },
  {
   "cell_type": "code",
   "execution_count": 17,
   "id": "8878978a",
   "metadata": {},
   "outputs": [],
   "source": [
    "# pipeline 2 using mean/mode value imputation and random oversampling\n",
    "\n",
    "pipe_2 = make_pipeline(MeanImputation(), RandomOverSampler('minority'), ebm)\n",
    "scores_2 = cross_validate(pipe_2, X, y, cv=cv,scoring=['accuracy','roc_auc','f1', 'precision','recall'])\n",
    "#scores_2"
   ]
  },
  {
   "cell_type": "code",
   "execution_count": 18,
   "id": "cbaff3d4",
   "metadata": {},
   "outputs": [],
   "source": [
    "# pipeline 3 using unique value imputation and smote oversampling\n",
    "pipe_3 = make_pipeline(unique_imputer, sm, ebm)\n",
    "scores_3 = cross_validate(pipe_3, X, y, cv=cv, scoring=['accuracy','roc_auc','f1', 'precision','recall'])\n",
    "#scores_3"
   ]
  },
  {
   "cell_type": "code",
   "execution_count": 19,
   "id": "9e7f43af",
   "metadata": {},
   "outputs": [],
   "source": [
    "# pipeline 4 using mean/mode imputation and smote oversampling\n",
    "pipe_4 = make_pipeline(MeanImputation(), sm, ebm)\n",
    "scores_4 = cross_validate(pipe_4, X, y, cv=cv, scoring=['accuracy','roc_auc','f1', 'precision','recall'])\n",
    "#scores_4"
   ]
  },
  {
   "cell_type": "markdown",
   "id": "02a7a7d3",
   "metadata": {},
   "source": [
    "**VISUALIZE RESULTS**"
   ]
  },
  {
   "cell_type": "code",
   "execution_count": 20,
   "id": "946ae3c8",
   "metadata": {},
   "outputs": [],
   "source": [
    "significant_numbers = 2 # used for rounding\n",
    "\n",
    "combinations = [{'model':'EBM', 'sampling':'random', 'imputation':'unique', 'scores':scores_1},\n",
    "                {'model':'EBM', 'sampling':'random', 'imputation':'mean/mode', 'scores':scores_2},\n",
    "                {'model':'EBM', 'sampling':'SMOTE', 'imputation':'unique', 'scores':scores_3},\n",
    "                {'model':'EBM', 'sampling':'SMOTE', 'imputation':'mean/mode', 'scores':scores_4}]\n",
    "\n",
    "config_parameters = ['model', 'sampling', 'imputation']\n",
    "\n",
    "headers = [\"Model\", \"sampling\", \"imputation\", \"accuracy\", \"roc_auc\", \"f1\", \"precision\", \"recall\"]\n",
    "eval_metrics = ['test_accuracy', 'test_roc_auc', 'test_f1', 'test_precision', 'test_recall']"
   ]
  },
  {
   "cell_type": "code",
   "execution_count": 21,
   "id": "d7c52917",
   "metadata": {},
   "outputs": [
    {
     "data": {
      "text/html": [
       "<table>\n",
       "<tbody>\n",
       "<tr><td>Model</td><td>sampling</td><td>imputation</td><td>accuracy    </td><td>roc_auc     </td><td>f1          </td><td>precision   </td><td>recall      </td></tr>\n",
       "<tr><td>EBM  </td><td>random  </td><td>unique    </td><td>0.8 +- 0.04 </td><td>0.57 +- 0.03</td><td>0.17 +- 0.07</td><td>0.12 +- 0.05</td><td>0.3 +- 0.13 </td></tr>\n",
       "<tr><td>EBM  </td><td>random  </td><td>mean/mode </td><td>0.8 +- 0.05 </td><td>0.57 +- 0.03</td><td>0.19 +- 0.07</td><td>0.13 +- 0.05</td><td>0.34 +- 0.13</td></tr>\n",
       "<tr><td>EBM  </td><td>SMOTE   </td><td>unique    </td><td>0.91 +- 0.03</td><td>0.59 +- 0.07</td><td>0.21 +- 0.17</td><td>0.44 +- 0.38</td><td>0.15 +- 0.12</td></tr>\n",
       "<tr><td>EBM  </td><td>SMOTE   </td><td>mean/mode </td><td>0.88 +- 0.05</td><td>0.55 +- 0.06</td><td>0.17 +- 0.06</td><td>0.28 +- 0.18</td><td>0.15 +- 0.05</td></tr>\n",
       "</tbody>\n",
       "</table>"
      ],
      "text/plain": [
       "'<table>\\n<tbody>\\n<tr><td>Model</td><td>sampling</td><td>imputation</td><td>accuracy    </td><td>roc_auc     </td><td>f1          </td><td>precision   </td><td>recall      </td></tr>\\n<tr><td>EBM  </td><td>random  </td><td>unique    </td><td>0.8 +- 0.04 </td><td>0.57 +- 0.03</td><td>0.17 +- 0.07</td><td>0.12 +- 0.05</td><td>0.3 +- 0.13 </td></tr>\\n<tr><td>EBM  </td><td>random  </td><td>mean/mode </td><td>0.8 +- 0.05 </td><td>0.57 +- 0.03</td><td>0.19 +- 0.07</td><td>0.13 +- 0.05</td><td>0.34 +- 0.13</td></tr>\\n<tr><td>EBM  </td><td>SMOTE   </td><td>unique    </td><td>0.91 +- 0.03</td><td>0.59 +- 0.07</td><td>0.21 +- 0.17</td><td>0.44 +- 0.38</td><td>0.15 +- 0.12</td></tr>\\n<tr><td>EBM  </td><td>SMOTE   </td><td>mean/mode </td><td>0.88 +- 0.05</td><td>0.55 +- 0.06</td><td>0.17 +- 0.06</td><td>0.28 +- 0.18</td><td>0.15 +- 0.05</td></tr>\\n</tbody>\\n</table>'"
      ]
     },
     "execution_count": 21,
     "metadata": {},
     "output_type": "execute_result"
    }
   ],
   "source": [
    "data = []\n",
    "data.append(headers)\n",
    "\n",
    "for combination in combinations:\n",
    "    summary = [combination[param] for param in config_parameters]\n",
    "    \n",
    "    for metric in eval_metrics:\n",
    "        mean = combination['scores'][metric].mean().round(significant_numbers)\n",
    "        std = combination['scores'][metric].std().round(significant_numbers)\n",
    "        summary.append(f'{mean} +- {std}')\n",
    "        \n",
    "    data.append(summary)\n",
    "    \n",
    "table = tabulate.tabulate(data, tablefmt='html')\n",
    "table"
   ]
  }
 ],
 "metadata": {
  "kernelspec": {
   "display_name": "Python 3 (ipykernel)",
   "language": "python",
   "name": "python3"
  },
  "language_info": {
   "codemirror_mode": {
    "name": "ipython",
    "version": 3
   },
   "file_extension": ".py",
   "mimetype": "text/x-python",
   "name": "python",
   "nbconvert_exporter": "python",
   "pygments_lexer": "ipython3",
   "version": "3.9.7"
  }
 },
 "nbformat": 4,
 "nbformat_minor": 5
}
